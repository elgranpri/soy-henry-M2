{
 "cells": [
  {
   "cell_type": "code",
   "execution_count": 637,
   "metadata": {},
   "outputs": [],
   "source": [
    "import pandas as pd\n",
    "import numpy as np\n",
    "import matplotlib.pyplot as plt\n",
    "import math\n",
    "import random\n",
    "from scipy import stats\n",
    "import re\n",
    "import seaborn as sns"
   ]
  },
  {
   "attachments": {},
   "cell_type": "markdown",
   "metadata": {},
   "source": [
    "Traigo el Dataframe de Titanic y cambio los valores de las columnas."
   ]
  },
  {
   "cell_type": "code",
   "execution_count": 599,
   "metadata": {},
   "outputs": [
    {
     "data": {
      "text/html": [
       "<div>\n",
       "<style scoped>\n",
       "    .dataframe tbody tr th:only-of-type {\n",
       "        vertical-align: middle;\n",
       "    }\n",
       "\n",
       "    .dataframe tbody tr th {\n",
       "        vertical-align: top;\n",
       "    }\n",
       "\n",
       "    .dataframe thead th {\n",
       "        text-align: right;\n",
       "    }\n",
       "</style>\n",
       "<table border=\"1\" class=\"dataframe\">\n",
       "  <thead>\n",
       "    <tr style=\"text-align: right;\">\n",
       "      <th></th>\n",
       "      <th>sobrevivio</th>\n",
       "      <th>clase</th>\n",
       "      <th>nombre</th>\n",
       "      <th>sexo</th>\n",
       "      <th>edad</th>\n",
       "      <th>hermanos</th>\n",
       "      <th>padres</th>\n",
       "      <th>ticket</th>\n",
       "      <th>precio</th>\n",
       "      <th>cabina</th>\n",
       "      <th>puerto</th>\n",
       "    </tr>\n",
       "    <tr>\n",
       "      <th>PassengerId</th>\n",
       "      <th></th>\n",
       "      <th></th>\n",
       "      <th></th>\n",
       "      <th></th>\n",
       "      <th></th>\n",
       "      <th></th>\n",
       "      <th></th>\n",
       "      <th></th>\n",
       "      <th></th>\n",
       "      <th></th>\n",
       "      <th></th>\n",
       "    </tr>\n",
       "  </thead>\n",
       "  <tbody>\n",
       "    <tr>\n",
       "      <th>1</th>\n",
       "      <td>0</td>\n",
       "      <td>3</td>\n",
       "      <td>Braund, Mr. Owen Harris</td>\n",
       "      <td>male</td>\n",
       "      <td>22.0</td>\n",
       "      <td>1</td>\n",
       "      <td>0</td>\n",
       "      <td>A/5 21171</td>\n",
       "      <td>7.2500</td>\n",
       "      <td>NaN</td>\n",
       "      <td>S</td>\n",
       "    </tr>\n",
       "    <tr>\n",
       "      <th>2</th>\n",
       "      <td>1</td>\n",
       "      <td>1</td>\n",
       "      <td>Cumings, Mrs. John Bradley (Florence Briggs Th...</td>\n",
       "      <td>female</td>\n",
       "      <td>38.0</td>\n",
       "      <td>1</td>\n",
       "      <td>0</td>\n",
       "      <td>PC 17599</td>\n",
       "      <td>71.2833</td>\n",
       "      <td>C85</td>\n",
       "      <td>C</td>\n",
       "    </tr>\n",
       "  </tbody>\n",
       "</table>\n",
       "</div>"
      ],
      "text/plain": [
       "             sobrevivio  clase  \\\n",
       "PassengerId                      \n",
       "1                     0      3   \n",
       "2                     1      1   \n",
       "\n",
       "                                                        nombre    sexo  edad  \\\n",
       "PassengerId                                                                    \n",
       "1                                      Braund, Mr. Owen Harris    male  22.0   \n",
       "2            Cumings, Mrs. John Bradley (Florence Briggs Th...  female  38.0   \n",
       "\n",
       "             hermanos  padres     ticket   precio cabina puerto  \n",
       "PassengerId                                                      \n",
       "1                   1       0  A/5 21171   7.2500    NaN      S  \n",
       "2                   1       0   PC 17599  71.2833    C85      C  "
      ]
     },
     "execution_count": 599,
     "metadata": {},
     "output_type": "execute_result"
    }
   ],
   "source": [
    "titanic = pd.read_csv(\"./Titanic.csv\", index_col = \"PassengerId\")\n",
    "titanic.columns = [\"sobrevivio\", \"clase\", \"nombre\", \"sexo\", \"edad\", \"hermanos\", \"padres\", \"ticket\", \"precio\", \"cabina\", \"puerto\"]\n",
    "#C = Cherburgo, Q = Queenstown, S = Southampton\n",
    "titanic.head(2)"
   ]
  },
  {
   "attachments": {},
   "cell_type": "markdown",
   "metadata": {},
   "source": [
    "## Ejercicios Pandas"
   ]
  },
  {
   "attachments": {},
   "cell_type": "markdown",
   "metadata": {},
   "source": [
    "¿Cuál es la edad promedio de los pasajeros?"
   ]
  },
  {
   "cell_type": "code",
   "execution_count": 600,
   "metadata": {},
   "outputs": [
    {
     "name": "stdout",
     "output_type": "stream",
     "text": [
      "Promedio de edad de los pasajeros: 29\n"
     ]
    }
   ],
   "source": [
    "promedio_edad_total = titanic[\"edad\"].mean()\n",
    "print(f\"Promedio de edad de los pasajeros: {int(promedio_edad_total)}\")"
   ]
  },
  {
   "attachments": {},
   "cell_type": "markdown",
   "metadata": {},
   "source": [
    "¿Cuántos hombres y mujeres había a bordo?"
   ]
  },
  {
   "cell_type": "code",
   "execution_count": 601,
   "metadata": {},
   "outputs": [
    {
     "name": "stdout",
     "output_type": "stream",
     "text": [
      "Hombres a bordo: 577\n",
      "Mujeres a bordo: 314\n"
     ]
    }
   ],
   "source": [
    "hombres_arriba = titanic[titanic[\"sexo\"] == \"male\"].shape[0]\n",
    "mujeres_arriba = titanic[titanic[\"sexo\"] == \"female\"].shape[0]\n",
    "print(f\"Hombres a bordo: {hombres_arriba}\\nMujeres a bordo: {mujeres_arriba}\")"
   ]
  },
  {
   "attachments": {},
   "cell_type": "markdown",
   "metadata": {},
   "source": [
    "¿Cuál fue la tarifa más alta que se pagó por un boleto?"
   ]
  },
  {
   "cell_type": "code",
   "execution_count": 602,
   "metadata": {},
   "outputs": [
    {
     "name": "stdout",
     "output_type": "stream",
     "text": [
      "Tarifa mas alta: $512.33\n"
     ]
    }
   ],
   "source": [
    "tarifa_alta = titanic[\"precio\"].max()\n",
    "print(f\"Tarifa mas alta: ${round(tarifa_alta, 2)}\")"
   ]
  },
  {
   "attachments": {},
   "cell_type": "markdown",
   "metadata": {},
   "source": [
    "¿Cuál fue la edad de la persona más joven a bordo?"
   ]
  },
  {
   "cell_type": "code",
   "execution_count": 603,
   "metadata": {},
   "outputs": [
    {
     "name": "stdout",
     "output_type": "stream",
     "text": [
      "Persona mas joven: 0.42\n"
     ]
    }
   ],
   "source": [
    "persona_joven = titanic[\"edad\"].min()\n",
    "print(f\"Persona mas joven: {persona_joven}\")"
   ]
  },
  {
   "attachments": {},
   "cell_type": "markdown",
   "metadata": {},
   "source": [
    "¿Cuántos pasajeros viajaban solos y cuántos viajaban en familia? (Solos se refiere a aquellos que no tenían hermanos, cónyuge, padres o hijos a bordo)."
   ]
  },
  {
   "cell_type": "code",
   "execution_count": 604,
   "metadata": {},
   "outputs": [
    {
     "name": "stdout",
     "output_type": "stream",
     "text": [
      "Cantidad de personas solas: 537\n"
     ]
    }
   ],
   "source": [
    "personas_solas = titanic[titanic[\"padres\"] == 0]\n",
    "personas_solas = personas_solas[personas_solas[\"hermanos\"] == 0]\n",
    "print(f\"Cantidad de personas solas: {personas_solas.shape[0]}\")"
   ]
  },
  {
   "attachments": {},
   "cell_type": "markdown",
   "metadata": {},
   "source": [
    "¿Cuál fue la tarifa promedio pagada por los pasajeros en cada clase?"
   ]
  },
  {
   "cell_type": "code",
   "execution_count": 605,
   "metadata": {},
   "outputs": [
    {
     "name": "stdout",
     "output_type": "stream",
     "text": [
      "Tarifa promedio: 32.2\n"
     ]
    }
   ],
   "source": [
    "tarifa_promedio = titanic[\"precio\"].mean()\n",
    "print(f\"Tarifa promedio: {round(tarifa_promedio, 2)}\")"
   ]
  },
  {
   "attachments": {},
   "cell_type": "markdown",
   "metadata": {},
   "source": [
    "¿Cuántos pasajeros embarcaron en cada puerto (Cherbourg, Queenstown, Southampton)?"
   ]
  },
  {
   "cell_type": "code",
   "execution_count": 606,
   "metadata": {},
   "outputs": [
    {
     "name": "stdout",
     "output_type": "stream",
     "text": [
      "Pasajeros por puerto:\n",
      "S    644\n",
      "C    168\n",
      "Q     77\n",
      "Name: puerto, dtype: int64\n"
     ]
    }
   ],
   "source": [
    "puerto = titanic[\"puerto\"].value_counts()\n",
    "print(f\"Pasajeros por puerto:\\n{puerto}\")"
   ]
  },
  {
   "cell_type": "markdown",
   "metadata": {},
   "source": [
    "¿Cuál fue el porcentaje de supervivencia por género?"
   ]
  },
  {
   "cell_type": "code",
   "execution_count": 607,
   "metadata": {},
   "outputs": [
    {
     "data": {
      "text/plain": [
       "sexo\n",
       "female    74.20\n",
       "male      18.89\n",
       "Name: sobrevivio, dtype: float64"
      ]
     },
     "execution_count": 607,
     "metadata": {},
     "output_type": "execute_result"
    }
   ],
   "source": [
    "sobrev_genero = titanic.groupby(\"sexo\")[\"sobrevivio\"].mean() * 100\n",
    "round(sobrev_genero, 2)"
   ]
  },
  {
   "attachments": {},
   "cell_type": "markdown",
   "metadata": {},
   "source": [
    "¿Cuál fue el nombre del pasajero que pagó la tarifa más alta?"
   ]
  },
  {
   "cell_type": "code",
   "execution_count": 608,
   "metadata": {},
   "outputs": [
    {
     "name": "stdout",
     "output_type": "stream",
     "text": [
      "Nombre de quien pago mas: Ward, Miss. Anna quien pago 512.33\n"
     ]
    }
   ],
   "source": [
    "indice = titanic[\"precio\"].idxmax()\n",
    "nombre = titanic[\"nombre\"][indice]\n",
    "print(f\"Nombre de quien pago mas: {nombre} quien pago {round(tarifa_alta, 2)}\")"
   ]
  },
  {
   "attachments": {},
   "cell_type": "markdown",
   "metadata": {},
   "source": [
    "¿Cuántos pasajeros tenían una cabina asignada?"
   ]
  },
  {
   "cell_type": "code",
   "execution_count": 609,
   "metadata": {},
   "outputs": [
    {
     "name": "stdout",
     "output_type": "stream",
     "text": [
      "Pasajeros con cabina: 204\n"
     ]
    }
   ],
   "source": [
    "pasajeros_cabina = titanic[\"cabina\"].dropna()\n",
    "print(f\"Pasajeros con cabina: {pasajeros_cabina.shape[0]}\")"
   ]
  },
  {
   "attachments": {},
   "cell_type": "markdown",
   "metadata": {},
   "source": [
    "¿Cuántos pasajeros viajaron en cada una de las tres clases?"
   ]
  },
  {
   "cell_type": "code",
   "execution_count": 610,
   "metadata": {},
   "outputs": [
    {
     "name": "stdout",
     "output_type": "stream",
     "text": [
      "Pasajeros por clase:\n",
      "1    216\n",
      "2    184\n",
      "3    491\n",
      "Name: clase, dtype: int64\n"
     ]
    }
   ],
   "source": [
    "puerto = titanic[\"clase\"].value_counts()\n",
    "print(f\"Pasajeros por clase:\\n{puerto.sort_index()}\")"
   ]
  },
  {
   "attachments": {},
   "cell_type": "markdown",
   "metadata": {},
   "source": [
    "¿Cuál fue el porcentaje de sobrevivientes en cada clase?"
   ]
  },
  {
   "cell_type": "code",
   "execution_count": 611,
   "metadata": {},
   "outputs": [
    {
     "data": {
      "text/plain": [
       "clase\n",
       "1    62.96\n",
       "2    47.28\n",
       "3    24.24\n",
       "Name: sobrevivio, dtype: float64"
      ]
     },
     "execution_count": 611,
     "metadata": {},
     "output_type": "execute_result"
    }
   ],
   "source": [
    "sob_clase = titanic.groupby(\"clase\")[\"sobrevivio\"].mean() * 100\n",
    "round(sob_clase, 2)"
   ]
  },
  {
   "attachments": {},
   "cell_type": "markdown",
   "metadata": {},
   "source": [
    "¿Cuál fue la edad promedio de los pasajeros en cada una de las tres clases?"
   ]
  },
  {
   "cell_type": "code",
   "execution_count": 612,
   "metadata": {},
   "outputs": [
    {
     "data": {
      "text/plain": [
       "clase\n",
       "1    38.0\n",
       "2    30.0\n",
       "3    25.0\n",
       "Name: edad, dtype: float64"
      ]
     },
     "execution_count": 612,
     "metadata": {},
     "output_type": "execute_result"
    }
   ],
   "source": [
    "prom_clase = titanic.groupby(\"clase\")[\"edad\"].mean()\n",
    "round(prom_clase, 0)"
   ]
  },
  {
   "attachments": {},
   "cell_type": "markdown",
   "metadata": {},
   "source": [
    "¿Cuántos pasajeros a bordo tenían hermanos o cónyuges? ¿Cuántos tenían padres o hijos?"
   ]
  },
  {
   "cell_type": "code",
   "execution_count": 613,
   "metadata": {},
   "outputs": [
    {
     "name": "stdout",
     "output_type": "stream",
     "text": [
      "Pasajeros con hermanos o conyuges: 283\n",
      "Pasajeros con padres o hijos: 213\n"
     ]
    }
   ],
   "source": [
    "pasajeros_hermanos = titanic[titanic[\"hermanos\"] != 0].shape[0]\n",
    "pasajeros_padres = titanic[titanic[\"padres\"] != 0].shape[0]\n",
    "print(f\"Pasajeros con hermanos o conyuges: {pasajeros_hermanos}\\nPasajeros con padres o hijos: {pasajeros_padres}\")"
   ]
  },
  {
   "attachments": {},
   "cell_type": "markdown",
   "metadata": {},
   "source": [
    "¿Cuántos pasajeros a bordo eran menores de 18 años?"
   ]
  },
  {
   "cell_type": "code",
   "execution_count": 614,
   "metadata": {},
   "outputs": [
    {
     "name": "stdout",
     "output_type": "stream",
     "text": [
      "Pasajeros menores a 18 años: 113\n"
     ]
    }
   ],
   "source": [
    "pasajeros_menores = titanic[titanic[\"edad\"] < 18]\n",
    "print(f\"Pasajeros menores a 18 años: {pasajeros_menores.shape[0]}\")"
   ]
  },
  {
   "cell_type": "markdown",
   "metadata": {},
   "source": [
    "¿Cuál fue el porcentaje de sobrevivientes entre los pasajeros menores de 18 años?"
   ]
  },
  {
   "cell_type": "code",
   "execution_count": 615,
   "metadata": {},
   "outputs": [
    {
     "name": "stdout",
     "output_type": "stream",
     "text": [
      "Porcentaje: 53.98%\n"
     ]
    }
   ],
   "source": [
    "sobrevivientes_menores_18 = titanic[titanic['edad'] < 18]['sobrevivio'].mean() * 100\n",
    "print(f\"Porcentaje: {round(sobrevivientes_menores_18, 2)}%\")"
   ]
  },
  {
   "attachments": {},
   "cell_type": "markdown",
   "metadata": {},
   "source": [
    "¿Cuántos pasajeros a bordo tenían un título en su nombre (por ejemplo, \"Mr.\", \"Mrs.\", \"Dr.\", etc.)?"
   ]
  },
  {
   "cell_type": "code",
   "execution_count": 616,
   "metadata": {},
   "outputs": [],
   "source": [
    "def buscar_titulo(nombre):\n",
    "    palabras = nombre.split()\n",
    "    for palabra in palabras:\n",
    "        if re.search('\\w+\\.', palabra):\n",
    "            return True\n",
    "    return False    "
   ]
  },
  {
   "cell_type": "code",
   "execution_count": 617,
   "metadata": {},
   "outputs": [
    {
     "name": "stdout",
     "output_type": "stream",
     "text": [
      "891\n"
     ]
    }
   ],
   "source": [
    "pasajeros_con_titulo = titanic[titanic['nombre'].apply(buscar_titulo)]\n",
    "total_pasajeros_con_titulo = len(pasajeros_con_titulo)\n",
    "print(total_pasajeros_con_titulo)"
   ]
  },
  {
   "attachments": {},
   "cell_type": "markdown",
   "metadata": {},
   "source": [
    "¿Cuál fue el número de niños menores de 12 años que sobrevivieron? Para resolver este ejercicio, necesitarás crear una nueva columna que indique si el pasajero es un niño o no (basado en la edad), y luego filtrar las filas que cumplan con este criterio y la columna de sobrevivencia."
   ]
  },
  {
   "cell_type": "code",
   "execution_count": 618,
   "metadata": {},
   "outputs": [
    {
     "data": {
      "text/html": [
       "<div>\n",
       "<style scoped>\n",
       "    .dataframe tbody tr th:only-of-type {\n",
       "        vertical-align: middle;\n",
       "    }\n",
       "\n",
       "    .dataframe tbody tr th {\n",
       "        vertical-align: top;\n",
       "    }\n",
       "\n",
       "    .dataframe thead th {\n",
       "        text-align: right;\n",
       "    }\n",
       "</style>\n",
       "<table border=\"1\" class=\"dataframe\">\n",
       "  <thead>\n",
       "    <tr style=\"text-align: right;\">\n",
       "      <th></th>\n",
       "      <th>sobrevivio</th>\n",
       "      <th>clase</th>\n",
       "      <th>nombre</th>\n",
       "      <th>sexo</th>\n",
       "      <th>edad</th>\n",
       "      <th>hermanos</th>\n",
       "      <th>padres</th>\n",
       "      <th>ticket</th>\n",
       "      <th>precio</th>\n",
       "      <th>cabina</th>\n",
       "      <th>puerto</th>\n",
       "      <th>chico</th>\n",
       "    </tr>\n",
       "    <tr>\n",
       "      <th>PassengerId</th>\n",
       "      <th></th>\n",
       "      <th></th>\n",
       "      <th></th>\n",
       "      <th></th>\n",
       "      <th></th>\n",
       "      <th></th>\n",
       "      <th></th>\n",
       "      <th></th>\n",
       "      <th></th>\n",
       "      <th></th>\n",
       "      <th></th>\n",
       "      <th></th>\n",
       "    </tr>\n",
       "  </thead>\n",
       "  <tbody>\n",
       "    <tr>\n",
       "      <th>1</th>\n",
       "      <td>0</td>\n",
       "      <td>3</td>\n",
       "      <td>Braund, Mr. Owen Harris</td>\n",
       "      <td>male</td>\n",
       "      <td>22.0</td>\n",
       "      <td>1</td>\n",
       "      <td>0</td>\n",
       "      <td>A/5 21171</td>\n",
       "      <td>7.2500</td>\n",
       "      <td>NaN</td>\n",
       "      <td>S</td>\n",
       "      <td>No</td>\n",
       "    </tr>\n",
       "    <tr>\n",
       "      <th>2</th>\n",
       "      <td>1</td>\n",
       "      <td>1</td>\n",
       "      <td>Cumings, Mrs. John Bradley (Florence Briggs Th...</td>\n",
       "      <td>female</td>\n",
       "      <td>38.0</td>\n",
       "      <td>1</td>\n",
       "      <td>0</td>\n",
       "      <td>PC 17599</td>\n",
       "      <td>71.2833</td>\n",
       "      <td>C85</td>\n",
       "      <td>C</td>\n",
       "      <td>No</td>\n",
       "    </tr>\n",
       "  </tbody>\n",
       "</table>\n",
       "</div>"
      ],
      "text/plain": [
       "             sobrevivio  clase  \\\n",
       "PassengerId                      \n",
       "1                     0      3   \n",
       "2                     1      1   \n",
       "\n",
       "                                                        nombre    sexo  edad  \\\n",
       "PassengerId                                                                    \n",
       "1                                      Braund, Mr. Owen Harris    male  22.0   \n",
       "2            Cumings, Mrs. John Bradley (Florence Briggs Th...  female  38.0   \n",
       "\n",
       "             hermanos  padres     ticket   precio cabina puerto chico  \n",
       "PassengerId                                                            \n",
       "1                   1       0  A/5 21171   7.2500    NaN      S    No  \n",
       "2                   1       0   PC 17599  71.2833    C85      C    No  "
      ]
     },
     "execution_count": 618,
     "metadata": {},
     "output_type": "execute_result"
    }
   ],
   "source": [
    "titanic2 = titanic.copy()\n",
    "titanic2[\"chico\"] = titanic2[\"edad\"].apply(lambda x: \"Si\" if x < 12 else \"No\")\n",
    "titanic2.head(2)"
   ]
  },
  {
   "cell_type": "code",
   "execution_count": 619,
   "metadata": {},
   "outputs": [
    {
     "name": "stdout",
     "output_type": "stream",
     "text": [
      "Cantidad de menores a 12 años sobrevivientes: 39\n"
     ]
    }
   ],
   "source": [
    "sob_12 = titanic2[(titanic2[\"chico\"] == \"Si\") & (titanic2[\"sobrevivio\"] == 1)].shape[0]\n",
    "print(f\"Cantidad de menores a 12 años sobrevivientes: {sob_12}\")"
   ]
  },
  {
   "attachments": {},
   "cell_type": "markdown",
   "metadata": {},
   "source": [
    "¿Cuál fue la tarifa media que pagaron los pasajeros de cada clase? Para resolver este ejercicio, necesitarás agrupar el dataframe por la columna de clase y luego calcular la media de la columna de tarifa."
   ]
  },
  {
   "cell_type": "code",
   "execution_count": 620,
   "metadata": {},
   "outputs": [
    {
     "data": {
      "text/plain": [
       "clase\n",
       "1    84.0\n",
       "2    21.0\n",
       "3    14.0\n",
       "Name: precio, dtype: float64"
      ]
     },
     "execution_count": 620,
     "metadata": {},
     "output_type": "execute_result"
    }
   ],
   "source": [
    "prom_tarclase = titanic.groupby(\"clase\")[\"precio\"].mean()\n",
    "round(prom_tarclase, 0)"
   ]
  },
  {
   "attachments": {},
   "cell_type": "markdown",
   "metadata": {},
   "source": [
    "¿Cuántas personas compartieron la misma cabina? Para resolver este ejercicio, necesitarás separar los números de cabina en una lista de cadenas (ya que algunas personas compartieron la misma cabina) y luego contar el número de veces que aparece cada número de cabina en la lista."
   ]
  },
  {
   "cell_type": "code",
   "execution_count": 621,
   "metadata": {},
   "outputs": [
    {
     "data": {
      "text/html": [
       "<div>\n",
       "<style scoped>\n",
       "    .dataframe tbody tr th:only-of-type {\n",
       "        vertical-align: middle;\n",
       "    }\n",
       "\n",
       "    .dataframe tbody tr th {\n",
       "        vertical-align: top;\n",
       "    }\n",
       "\n",
       "    .dataframe thead th {\n",
       "        text-align: right;\n",
       "    }\n",
       "</style>\n",
       "<table border=\"1\" class=\"dataframe\">\n",
       "  <thead>\n",
       "    <tr style=\"text-align: right;\">\n",
       "      <th></th>\n",
       "      <th>sobrevivio</th>\n",
       "      <th>clase</th>\n",
       "      <th>nombre</th>\n",
       "      <th>sexo</th>\n",
       "      <th>edad</th>\n",
       "      <th>hermanos</th>\n",
       "      <th>padres</th>\n",
       "      <th>ticket</th>\n",
       "      <th>precio</th>\n",
       "      <th>cabina</th>\n",
       "      <th>puerto</th>\n",
       "      <th>chico</th>\n",
       "    </tr>\n",
       "    <tr>\n",
       "      <th>PassengerId</th>\n",
       "      <th></th>\n",
       "      <th></th>\n",
       "      <th></th>\n",
       "      <th></th>\n",
       "      <th></th>\n",
       "      <th></th>\n",
       "      <th></th>\n",
       "      <th></th>\n",
       "      <th></th>\n",
       "      <th></th>\n",
       "      <th></th>\n",
       "      <th></th>\n",
       "    </tr>\n",
       "  </thead>\n",
       "  <tbody>\n",
       "    <tr>\n",
       "      <th>2</th>\n",
       "      <td>1</td>\n",
       "      <td>1</td>\n",
       "      <td>Cumings, Mrs. John Bradley (Florence Briggs Th...</td>\n",
       "      <td>female</td>\n",
       "      <td>38.0</td>\n",
       "      <td>1</td>\n",
       "      <td>0</td>\n",
       "      <td>PC 17599</td>\n",
       "      <td>71.2833</td>\n",
       "      <td>[C85]</td>\n",
       "      <td>C</td>\n",
       "      <td>No</td>\n",
       "    </tr>\n",
       "    <tr>\n",
       "      <th>4</th>\n",
       "      <td>1</td>\n",
       "      <td>1</td>\n",
       "      <td>Futrelle, Mrs. Jacques Heath (Lily May Peel)</td>\n",
       "      <td>female</td>\n",
       "      <td>35.0</td>\n",
       "      <td>1</td>\n",
       "      <td>0</td>\n",
       "      <td>113803</td>\n",
       "      <td>53.1000</td>\n",
       "      <td>[C123]</td>\n",
       "      <td>S</td>\n",
       "      <td>No</td>\n",
       "    </tr>\n",
       "    <tr>\n",
       "      <th>7</th>\n",
       "      <td>0</td>\n",
       "      <td>1</td>\n",
       "      <td>McCarthy, Mr. Timothy J</td>\n",
       "      <td>male</td>\n",
       "      <td>54.0</td>\n",
       "      <td>0</td>\n",
       "      <td>0</td>\n",
       "      <td>17463</td>\n",
       "      <td>51.8625</td>\n",
       "      <td>[E46]</td>\n",
       "      <td>S</td>\n",
       "      <td>No</td>\n",
       "    </tr>\n",
       "    <tr>\n",
       "      <th>11</th>\n",
       "      <td>1</td>\n",
       "      <td>3</td>\n",
       "      <td>Sandstrom, Miss. Marguerite Rut</td>\n",
       "      <td>female</td>\n",
       "      <td>4.0</td>\n",
       "      <td>1</td>\n",
       "      <td>1</td>\n",
       "      <td>PP 9549</td>\n",
       "      <td>16.7000</td>\n",
       "      <td>[G6]</td>\n",
       "      <td>S</td>\n",
       "      <td>Si</td>\n",
       "    </tr>\n",
       "    <tr>\n",
       "      <th>12</th>\n",
       "      <td>1</td>\n",
       "      <td>1</td>\n",
       "      <td>Bonnell, Miss. Elizabeth</td>\n",
       "      <td>female</td>\n",
       "      <td>58.0</td>\n",
       "      <td>0</td>\n",
       "      <td>0</td>\n",
       "      <td>113783</td>\n",
       "      <td>26.5500</td>\n",
       "      <td>[C103]</td>\n",
       "      <td>S</td>\n",
       "      <td>No</td>\n",
       "    </tr>\n",
       "    <tr>\n",
       "      <th>...</th>\n",
       "      <td>...</td>\n",
       "      <td>...</td>\n",
       "      <td>...</td>\n",
       "      <td>...</td>\n",
       "      <td>...</td>\n",
       "      <td>...</td>\n",
       "      <td>...</td>\n",
       "      <td>...</td>\n",
       "      <td>...</td>\n",
       "      <td>...</td>\n",
       "      <td>...</td>\n",
       "      <td>...</td>\n",
       "    </tr>\n",
       "    <tr>\n",
       "      <th>872</th>\n",
       "      <td>1</td>\n",
       "      <td>1</td>\n",
       "      <td>Beckwith, Mrs. Richard Leonard (Sallie Monypeny)</td>\n",
       "      <td>female</td>\n",
       "      <td>47.0</td>\n",
       "      <td>1</td>\n",
       "      <td>1</td>\n",
       "      <td>11751</td>\n",
       "      <td>52.5542</td>\n",
       "      <td>[D35]</td>\n",
       "      <td>S</td>\n",
       "      <td>No</td>\n",
       "    </tr>\n",
       "    <tr>\n",
       "      <th>873</th>\n",
       "      <td>0</td>\n",
       "      <td>1</td>\n",
       "      <td>Carlsson, Mr. Frans Olof</td>\n",
       "      <td>male</td>\n",
       "      <td>33.0</td>\n",
       "      <td>0</td>\n",
       "      <td>0</td>\n",
       "      <td>695</td>\n",
       "      <td>5.0000</td>\n",
       "      <td>[B51, B53, B55]</td>\n",
       "      <td>S</td>\n",
       "      <td>No</td>\n",
       "    </tr>\n",
       "    <tr>\n",
       "      <th>880</th>\n",
       "      <td>1</td>\n",
       "      <td>1</td>\n",
       "      <td>Potter, Mrs. Thomas Jr (Lily Alexenia Wilson)</td>\n",
       "      <td>female</td>\n",
       "      <td>56.0</td>\n",
       "      <td>0</td>\n",
       "      <td>1</td>\n",
       "      <td>11767</td>\n",
       "      <td>83.1583</td>\n",
       "      <td>[C50]</td>\n",
       "      <td>C</td>\n",
       "      <td>No</td>\n",
       "    </tr>\n",
       "    <tr>\n",
       "      <th>888</th>\n",
       "      <td>1</td>\n",
       "      <td>1</td>\n",
       "      <td>Graham, Miss. Margaret Edith</td>\n",
       "      <td>female</td>\n",
       "      <td>19.0</td>\n",
       "      <td>0</td>\n",
       "      <td>0</td>\n",
       "      <td>112053</td>\n",
       "      <td>30.0000</td>\n",
       "      <td>[B42]</td>\n",
       "      <td>S</td>\n",
       "      <td>No</td>\n",
       "    </tr>\n",
       "    <tr>\n",
       "      <th>890</th>\n",
       "      <td>1</td>\n",
       "      <td>1</td>\n",
       "      <td>Behr, Mr. Karl Howell</td>\n",
       "      <td>male</td>\n",
       "      <td>26.0</td>\n",
       "      <td>0</td>\n",
       "      <td>0</td>\n",
       "      <td>111369</td>\n",
       "      <td>30.0000</td>\n",
       "      <td>[C148]</td>\n",
       "      <td>C</td>\n",
       "      <td>No</td>\n",
       "    </tr>\n",
       "  </tbody>\n",
       "</table>\n",
       "<p>204 rows × 12 columns</p>\n",
       "</div>"
      ],
      "text/plain": [
       "             sobrevivio  clase  \\\n",
       "PassengerId                      \n",
       "2                     1      1   \n",
       "4                     1      1   \n",
       "7                     0      1   \n",
       "11                    1      3   \n",
       "12                    1      1   \n",
       "...                 ...    ...   \n",
       "872                   1      1   \n",
       "873                   0      1   \n",
       "880                   1      1   \n",
       "888                   1      1   \n",
       "890                   1      1   \n",
       "\n",
       "                                                        nombre    sexo  edad  \\\n",
       "PassengerId                                                                    \n",
       "2            Cumings, Mrs. John Bradley (Florence Briggs Th...  female  38.0   \n",
       "4                 Futrelle, Mrs. Jacques Heath (Lily May Peel)  female  35.0   \n",
       "7                                      McCarthy, Mr. Timothy J    male  54.0   \n",
       "11                             Sandstrom, Miss. Marguerite Rut  female   4.0   \n",
       "12                                    Bonnell, Miss. Elizabeth  female  58.0   \n",
       "...                                                        ...     ...   ...   \n",
       "872           Beckwith, Mrs. Richard Leonard (Sallie Monypeny)  female  47.0   \n",
       "873                                   Carlsson, Mr. Frans Olof    male  33.0   \n",
       "880              Potter, Mrs. Thomas Jr (Lily Alexenia Wilson)  female  56.0   \n",
       "888                               Graham, Miss. Margaret Edith  female  19.0   \n",
       "890                                      Behr, Mr. Karl Howell    male  26.0   \n",
       "\n",
       "             hermanos  padres    ticket   precio           cabina puerto chico  \n",
       "PassengerId                                                                     \n",
       "2                   1       0  PC 17599  71.2833            [C85]      C    No  \n",
       "4                   1       0    113803  53.1000           [C123]      S    No  \n",
       "7                   0       0     17463  51.8625            [E46]      S    No  \n",
       "11                  1       1   PP 9549  16.7000             [G6]      S    Si  \n",
       "12                  0       0    113783  26.5500           [C103]      S    No  \n",
       "...               ...     ...       ...      ...              ...    ...   ...  \n",
       "872                 1       1     11751  52.5542            [D35]      S    No  \n",
       "873                 0       0       695   5.0000  [B51, B53, B55]      S    No  \n",
       "880                 0       1     11767  83.1583            [C50]      C    No  \n",
       "888                 0       0    112053  30.0000            [B42]      S    No  \n",
       "890                 0       0    111369  30.0000           [C148]      C    No  \n",
       "\n",
       "[204 rows x 12 columns]"
      ]
     },
     "execution_count": 621,
     "metadata": {},
     "output_type": "execute_result"
    }
   ],
   "source": [
    "titanic2.dropna(subset = [\"cabina\"], inplace = True)\n",
    "titanic2[\"cabina\"] = titanic2[\"cabina\"].str.split(\" \")\n",
    "titanic2"
   ]
  },
  {
   "cell_type": "code",
   "execution_count": 622,
   "metadata": {},
   "outputs": [
    {
     "data": {
      "text/html": [
       "<div>\n",
       "<style scoped>\n",
       "    .dataframe tbody tr th:only-of-type {\n",
       "        vertical-align: middle;\n",
       "    }\n",
       "\n",
       "    .dataframe tbody tr th {\n",
       "        vertical-align: top;\n",
       "    }\n",
       "\n",
       "    .dataframe thead th {\n",
       "        text-align: right;\n",
       "    }\n",
       "</style>\n",
       "<table border=\"1\" class=\"dataframe\">\n",
       "  <thead>\n",
       "    <tr style=\"text-align: right;\">\n",
       "      <th></th>\n",
       "      <th>sobrevivio</th>\n",
       "      <th>clase</th>\n",
       "      <th>nombre</th>\n",
       "      <th>sexo</th>\n",
       "      <th>edad</th>\n",
       "      <th>hermanos</th>\n",
       "      <th>padres</th>\n",
       "      <th>ticket</th>\n",
       "      <th>precio</th>\n",
       "      <th>cabina</th>\n",
       "      <th>puerto</th>\n",
       "      <th>chico</th>\n",
       "    </tr>\n",
       "    <tr>\n",
       "      <th>PassengerId</th>\n",
       "      <th></th>\n",
       "      <th></th>\n",
       "      <th></th>\n",
       "      <th></th>\n",
       "      <th></th>\n",
       "      <th></th>\n",
       "      <th></th>\n",
       "      <th></th>\n",
       "      <th></th>\n",
       "      <th></th>\n",
       "      <th></th>\n",
       "      <th></th>\n",
       "    </tr>\n",
       "  </thead>\n",
       "  <tbody>\n",
       "    <tr>\n",
       "      <th>2</th>\n",
       "      <td>1</td>\n",
       "      <td>1</td>\n",
       "      <td>Cumings, Mrs. John Bradley (Florence Briggs Th...</td>\n",
       "      <td>female</td>\n",
       "      <td>38.0</td>\n",
       "      <td>1</td>\n",
       "      <td>0</td>\n",
       "      <td>PC 17599</td>\n",
       "      <td>71.2833</td>\n",
       "      <td>C85</td>\n",
       "      <td>C</td>\n",
       "      <td>No</td>\n",
       "    </tr>\n",
       "    <tr>\n",
       "      <th>4</th>\n",
       "      <td>1</td>\n",
       "      <td>1</td>\n",
       "      <td>Futrelle, Mrs. Jacques Heath (Lily May Peel)</td>\n",
       "      <td>female</td>\n",
       "      <td>35.0</td>\n",
       "      <td>1</td>\n",
       "      <td>0</td>\n",
       "      <td>113803</td>\n",
       "      <td>53.1000</td>\n",
       "      <td>C123</td>\n",
       "      <td>S</td>\n",
       "      <td>No</td>\n",
       "    </tr>\n",
       "    <tr>\n",
       "      <th>7</th>\n",
       "      <td>0</td>\n",
       "      <td>1</td>\n",
       "      <td>McCarthy, Mr. Timothy J</td>\n",
       "      <td>male</td>\n",
       "      <td>54.0</td>\n",
       "      <td>0</td>\n",
       "      <td>0</td>\n",
       "      <td>17463</td>\n",
       "      <td>51.8625</td>\n",
       "      <td>E46</td>\n",
       "      <td>S</td>\n",
       "      <td>No</td>\n",
       "    </tr>\n",
       "    <tr>\n",
       "      <th>11</th>\n",
       "      <td>1</td>\n",
       "      <td>3</td>\n",
       "      <td>Sandstrom, Miss. Marguerite Rut</td>\n",
       "      <td>female</td>\n",
       "      <td>4.0</td>\n",
       "      <td>1</td>\n",
       "      <td>1</td>\n",
       "      <td>PP 9549</td>\n",
       "      <td>16.7000</td>\n",
       "      <td>G6</td>\n",
       "      <td>S</td>\n",
       "      <td>Si</td>\n",
       "    </tr>\n",
       "    <tr>\n",
       "      <th>12</th>\n",
       "      <td>1</td>\n",
       "      <td>1</td>\n",
       "      <td>Bonnell, Miss. Elizabeth</td>\n",
       "      <td>female</td>\n",
       "      <td>58.0</td>\n",
       "      <td>0</td>\n",
       "      <td>0</td>\n",
       "      <td>113783</td>\n",
       "      <td>26.5500</td>\n",
       "      <td>C103</td>\n",
       "      <td>S</td>\n",
       "      <td>No</td>\n",
       "    </tr>\n",
       "    <tr>\n",
       "      <th>...</th>\n",
       "      <td>...</td>\n",
       "      <td>...</td>\n",
       "      <td>...</td>\n",
       "      <td>...</td>\n",
       "      <td>...</td>\n",
       "      <td>...</td>\n",
       "      <td>...</td>\n",
       "      <td>...</td>\n",
       "      <td>...</td>\n",
       "      <td>...</td>\n",
       "      <td>...</td>\n",
       "      <td>...</td>\n",
       "    </tr>\n",
       "    <tr>\n",
       "      <th>873</th>\n",
       "      <td>0</td>\n",
       "      <td>1</td>\n",
       "      <td>Carlsson, Mr. Frans Olof</td>\n",
       "      <td>male</td>\n",
       "      <td>33.0</td>\n",
       "      <td>0</td>\n",
       "      <td>0</td>\n",
       "      <td>695</td>\n",
       "      <td>5.0000</td>\n",
       "      <td>B53</td>\n",
       "      <td>S</td>\n",
       "      <td>No</td>\n",
       "    </tr>\n",
       "    <tr>\n",
       "      <th>873</th>\n",
       "      <td>0</td>\n",
       "      <td>1</td>\n",
       "      <td>Carlsson, Mr. Frans Olof</td>\n",
       "      <td>male</td>\n",
       "      <td>33.0</td>\n",
       "      <td>0</td>\n",
       "      <td>0</td>\n",
       "      <td>695</td>\n",
       "      <td>5.0000</td>\n",
       "      <td>B55</td>\n",
       "      <td>S</td>\n",
       "      <td>No</td>\n",
       "    </tr>\n",
       "    <tr>\n",
       "      <th>880</th>\n",
       "      <td>1</td>\n",
       "      <td>1</td>\n",
       "      <td>Potter, Mrs. Thomas Jr (Lily Alexenia Wilson)</td>\n",
       "      <td>female</td>\n",
       "      <td>56.0</td>\n",
       "      <td>0</td>\n",
       "      <td>1</td>\n",
       "      <td>11767</td>\n",
       "      <td>83.1583</td>\n",
       "      <td>C50</td>\n",
       "      <td>C</td>\n",
       "      <td>No</td>\n",
       "    </tr>\n",
       "    <tr>\n",
       "      <th>888</th>\n",
       "      <td>1</td>\n",
       "      <td>1</td>\n",
       "      <td>Graham, Miss. Margaret Edith</td>\n",
       "      <td>female</td>\n",
       "      <td>19.0</td>\n",
       "      <td>0</td>\n",
       "      <td>0</td>\n",
       "      <td>112053</td>\n",
       "      <td>30.0000</td>\n",
       "      <td>B42</td>\n",
       "      <td>S</td>\n",
       "      <td>No</td>\n",
       "    </tr>\n",
       "    <tr>\n",
       "      <th>890</th>\n",
       "      <td>1</td>\n",
       "      <td>1</td>\n",
       "      <td>Behr, Mr. Karl Howell</td>\n",
       "      <td>male</td>\n",
       "      <td>26.0</td>\n",
       "      <td>0</td>\n",
       "      <td>0</td>\n",
       "      <td>111369</td>\n",
       "      <td>30.0000</td>\n",
       "      <td>C148</td>\n",
       "      <td>C</td>\n",
       "      <td>No</td>\n",
       "    </tr>\n",
       "  </tbody>\n",
       "</table>\n",
       "<p>238 rows × 12 columns</p>\n",
       "</div>"
      ],
      "text/plain": [
       "             sobrevivio  clase  \\\n",
       "PassengerId                      \n",
       "2                     1      1   \n",
       "4                     1      1   \n",
       "7                     0      1   \n",
       "11                    1      3   \n",
       "12                    1      1   \n",
       "...                 ...    ...   \n",
       "873                   0      1   \n",
       "873                   0      1   \n",
       "880                   1      1   \n",
       "888                   1      1   \n",
       "890                   1      1   \n",
       "\n",
       "                                                        nombre    sexo  edad  \\\n",
       "PassengerId                                                                    \n",
       "2            Cumings, Mrs. John Bradley (Florence Briggs Th...  female  38.0   \n",
       "4                 Futrelle, Mrs. Jacques Heath (Lily May Peel)  female  35.0   \n",
       "7                                      McCarthy, Mr. Timothy J    male  54.0   \n",
       "11                             Sandstrom, Miss. Marguerite Rut  female   4.0   \n",
       "12                                    Bonnell, Miss. Elizabeth  female  58.0   \n",
       "...                                                        ...     ...   ...   \n",
       "873                                   Carlsson, Mr. Frans Olof    male  33.0   \n",
       "873                                   Carlsson, Mr. Frans Olof    male  33.0   \n",
       "880              Potter, Mrs. Thomas Jr (Lily Alexenia Wilson)  female  56.0   \n",
       "888                               Graham, Miss. Margaret Edith  female  19.0   \n",
       "890                                      Behr, Mr. Karl Howell    male  26.0   \n",
       "\n",
       "             hermanos  padres    ticket   precio cabina puerto chico  \n",
       "PassengerId                                                           \n",
       "2                   1       0  PC 17599  71.2833    C85      C    No  \n",
       "4                   1       0    113803  53.1000   C123      S    No  \n",
       "7                   0       0     17463  51.8625    E46      S    No  \n",
       "11                  1       1   PP 9549  16.7000     G6      S    Si  \n",
       "12                  0       0    113783  26.5500   C103      S    No  \n",
       "...               ...     ...       ...      ...    ...    ...   ...  \n",
       "873                 0       0       695   5.0000    B53      S    No  \n",
       "873                 0       0       695   5.0000    B55      S    No  \n",
       "880                 0       1     11767  83.1583    C50      C    No  \n",
       "888                 0       0    112053  30.0000    B42      S    No  \n",
       "890                 0       0    111369  30.0000   C148      C    No  \n",
       "\n",
       "[238 rows x 12 columns]"
      ]
     },
     "execution_count": 622,
     "metadata": {},
     "output_type": "execute_result"
    }
   ],
   "source": [
    "titanic2 = titanic2.explode(\"cabina\")\n",
    "titanic2"
   ]
  },
  {
   "cell_type": "code",
   "execution_count": 623,
   "metadata": {},
   "outputs": [
    {
     "data": {
      "text/plain": [
       "cabina\n",
       "A10    1\n",
       "A14    1\n",
       "A16    1\n",
       "A19    1\n",
       "A20    1\n",
       "      ..\n",
       "F33    3\n",
       "F38    1\n",
       "F4     2\n",
       "G6     4\n",
       "T      1\n",
       "Length: 147, dtype: int64"
      ]
     },
     "execution_count": 623,
     "metadata": {},
     "output_type": "execute_result"
    }
   ],
   "source": [
    "num_personas_por_cabina = titanic.groupby('cabina').size()\n",
    "num_personas_por_cabina"
   ]
  },
  {
   "cell_type": "code",
   "execution_count": 624,
   "metadata": {},
   "outputs": [
    {
     "data": {
      "text/plain": [
       "4"
      ]
     },
     "execution_count": 624,
     "metadata": {},
     "output_type": "execute_result"
    }
   ],
   "source": [
    "num_cabinas_compartidas = (num_personas_por_cabina).max()\n",
    "num_cabinas_compartidas"
   ]
  },
  {
   "attachments": {},
   "cell_type": "markdown",
   "metadata": {},
   "source": [
    "## Ejercicios de estadisticas"
   ]
  },
  {
   "attachments": {},
   "cell_type": "markdown",
   "metadata": {},
   "source": [
    "Combinaciones de pasajeros sobrevivientes: ¿De cuántas maneras se pueden seleccionar 4 pasajeros sobrevivientes del Titanic de un total de 342 sobrevivientes?"
   ]
  },
  {
   "cell_type": "code",
   "execution_count": 625,
   "metadata": {},
   "outputs": [
    {
     "data": {
      "text/plain": [
       "560077155"
      ]
     },
     "execution_count": 625,
     "metadata": {},
     "output_type": "execute_result"
    }
   ],
   "source": [
    "n = 342 #total\n",
    "k = 4 #a seleccionar\n",
    "\n",
    "math.comb(n,k)"
   ]
  },
  {
   "attachments": {},
   "cell_type": "markdown",
   "metadata": {},
   "source": [
    "Permutaciones de la tripulación: ¿De cuántas maneras se pueden ordenar los 885 miembros de la tripulación del Titanic? **IMPORTANTE**: tener en cuenta que al ser factorial de 885 va a dar un numero extremadamente grande por lo que mejor solo plantear"
   ]
  },
  {
   "cell_type": "code",
   "execution_count": 626,
   "metadata": {},
   "outputs": [],
   "source": [
    "n = 885 #total\n",
    "#math.factorial(n) --> tener en cuenta que al ser factorial de 885 va a dar un numero extremadamente grande por lo que mejor solo plantear"
   ]
  },
  {
   "attachments": {},
   "cell_type": "markdown",
   "metadata": {},
   "source": [
    "Probabilidad de sobrevivir según la clase del billete: ¿Cuál es la probabilidad de que un pasajero sobreviva al Titanic, dado que tenía un billete de primera clase?"
   ]
  },
  {
   "cell_type": "code",
   "execution_count": 627,
   "metadata": {},
   "outputs": [
    {
     "name": "stdout",
     "output_type": "stream",
     "text": [
      "La probabilidad de sobrevivir siendo de primera clase es de 62.96%\n"
     ]
    }
   ],
   "source": [
    "sobrev_1clase = titanic.loc[(titanic[\"sobrevivio\"] == 1) & (titanic[\"clase\"] == 1)].shape[0]\n",
    "total_primera_clase = titanic[titanic[\"clase\"] == 1].shape[0]\n",
    "prob_sob_1clase = sobrev_1clase / total_primera_clase #sobrevivientes de primera clase / total de primera clase\n",
    "print(f\"La probabilidad de sobrevivir siendo de primera clase es de {round(prob_sob_1clase * 100, 2)}%\")"
   ]
  },
  {
   "attachments": {},
   "cell_type": "markdown",
   "metadata": {},
   "source": [
    "Media y desviación estándar de la edad de los pasajeros: ¿Cuál es la media y desviación estándar de la edad de los pasajeros del Titanic?"
   ]
  },
  {
   "cell_type": "code",
   "execution_count": 628,
   "metadata": {},
   "outputs": [
    {
     "data": {
      "text/plain": [
       "(29.7, 14.53)"
      ]
     },
     "execution_count": 628,
     "metadata": {},
     "output_type": "execute_result"
    }
   ],
   "source": [
    "media = titanic[\"edad\"].mean()\n",
    "desv = titanic[\"edad\"].std()\n",
    "round(media,2), round(desv, 2)"
   ]
  },
  {
   "attachments": {},
   "cell_type": "markdown",
   "metadata": {},
   "source": [
    "Boxplot de la tarifa según la clase del billete: ¿Cómo se distribuyen las tarifas de los billetes según la clase del pasajero?"
   ]
  },
  {
   "cell_type": "code",
   "execution_count": 629,
   "metadata": {},
   "outputs": [
    {
     "data": {
      "image/png": "[encoded data removed]",
      "text/plain": [
       "<Figure size 640x480 with 1 Axes>"
      ]
     },
     "metadata": {},
     "output_type": "display_data"
    }
   ],
   "source": [
    "clase1 = titanic[titanic[\"clase\"] == 1][\"precio\"]\n",
    "clase2 = titanic[titanic[\"clase\"] == 2][\"precio\"]\n",
    "clase3 = titanic[titanic[\"clase\"] == 3][\"precio\"]\n",
    "\n",
    "fig, ax = plt.subplots()\n",
    "ax.boxplot([clase1, clase2, clase3], labels = [\"1ra clase\", \"2da clase\", \"3ra clase\"])\n",
    "ax.set_xlabel(\"clase\")\n",
    "ax.set_ylabel(\"Precio\")\n",
    "ax.set_ylim([0, 200])\n",
    "ax.set_title(\"Distribucion de precios por clase\")\n",
    "plt.show()"
   ]
  },
  {
   "attachments": {},
   "cell_type": "markdown",
   "metadata": {},
   "source": [
    "Correlación entre la edad y la tarifa: ¿Hay alguna correlación entre la edad del pasajero y la tarifa que pagó por su billete?"
   ]
  },
  {
   "cell_type": "code",
   "execution_count": 630,
   "metadata": {},
   "outputs": [
    {
     "data": {
      "text/plain": [
       "0.09606669176903894"
      ]
     },
     "execution_count": 630,
     "metadata": {},
     "output_type": "execute_result"
    }
   ],
   "source": [
    "correlacion = titanic[\"edad\"].corr(titanic[\"precio\"])\n",
    "correlacion"
   ]
  },
  {
   "cell_type": "code",
   "execution_count": 631,
   "metadata": {},
   "outputs": [
    {
     "data": {
      "text/plain": [
       "-0.5494996199439082"
      ]
     },
     "execution_count": 631,
     "metadata": {},
     "output_type": "execute_result"
    }
   ],
   "source": [
    "correlacion = titanic[\"clase\"].corr(titanic[\"precio\"])\n",
    "correlacion"
   ]
  },
  {
   "cell_type": "code",
   "execution_count": 632,
   "metadata": {},
   "outputs": [
    {
     "name": "stderr",
     "output_type": "stream",
     "text": [
      "C:\\Users\\Tamara Campos\\AppData\\Local\\Temp\\ipykernel_13896\\3816250947.py:1: FutureWarning: The default value of numeric_only in DataFrame.corr is deprecated. In a future version, it will default to False. Select only valid columns or specify the value of numeric_only to silence this warning.\n",
      "  matrizcorr = titanic.corr()\n"
     ]
    },
    {
     "data": {
      "image/png": "[encoded data removed]",
      "text/plain": [
       "<Figure size 640x480 with 2 Axes>"
      ]
     },
     "metadata": {},
     "output_type": "display_data"
    }
   ],
   "source": [
    "matrizcorr = titanic.corr()\n",
    "fig, ax = plt.subplots()\n",
    "cax = ax.matshow(matrizcorr, cmap='coolwarm')\n",
    "\n",
    "# Agregar una barra de colores\n",
    "fig.colorbar(cax)\n",
    "\n",
    "# Configurar las etiquetas de los ejes\n",
    "ax.set_xticks(range(len(matrizcorr.columns)))\n",
    "ax.set_xticklabels(matrizcorr.columns, rotation=90)\n",
    "ax.set_yticks(range(len(matrizcorr.columns)))\n",
    "ax.set_yticklabels(matrizcorr.columns)\n",
    "\n",
    "# Mostrar el gráfico\n",
    "plt.show()"
   ]
  },
  {
   "attachments": {},
   "cell_type": "markdown",
   "metadata": {},
   "source": [
    "Histograma de la edad de los pasajeros según su género: ¿Cómo se distribuyen las edades de los pasajeros según su género?"
   ]
  },
  {
   "cell_type": "code",
   "execution_count": 633,
   "metadata": {},
   "outputs": [
    {
     "data": {
      "image/png": "[encoded data removed]",
      "text/plain": [
       "<Figure size 640x480 with 1 Axes>"
      ]
     },
     "metadata": {},
     "output_type": "display_data"
    }
   ],
   "source": [
    "titanic_hombres = titanic[titanic[\"sexo\"] == \"male\"]\n",
    "titanic_mujeres = titanic[titanic[\"sexo\"] == \"female\"]\n",
    "\n",
    "plt.hist(titanic_hombres[\"edad\"], bins = 20, alpha = 0.5, label = \"Hombres\")\n",
    "plt.hist(titanic_mujeres[\"edad\"], bins = 20, alpha = 0.65, label = \"Mujeres\")\n",
    "plt.legend(loc = \"upper right\")\n",
    "plt.show()"
   ]
  },
  {
   "attachments": {},
   "cell_type": "markdown",
   "metadata": {},
   "source": [
    "Probabilidad de sobrevivir según el género y la clase del billete: ¿Cuál es la probabilidad de que un pasajero sobreviva al Titanic, dado que es mujer y tiene un billete de primera clase? "
   ]
  },
  {
   "cell_type": "code",
   "execution_count": 634,
   "metadata": {},
   "outputs": [
    {
     "name": "stdout",
     "output_type": "stream",
     "text": [
      "La probabilidad de sobrevivir al Titanic, dado que es mujer y tiene un billete de primera clase, es de 0.97.\n"
     ]
    }
   ],
   "source": [
    "sob_mujer_1 = titanic.loc[(titanic['sobrevivio'] == 1) & (titanic['sexo'] == 'female') & (titanic['clase'] == 1)].shape[0] / titanic.loc[(titanic['sexo'] == 'female') & (titanic['clase'] == 1)].shape[0]\n",
    "print(f\"La probabilidad de sobrevivir al Titanic, dado que es mujer y tiene un billete de primera clase, es de {sob_mujer_1:.2f}.\")\n"
   ]
  },
  {
   "attachments": {},
   "cell_type": "markdown",
   "metadata": {},
   "source": [
    "Test de hipótesis sobre la media de la edad de los pasajeros: ¿Podemos afirmar que la edad media de los pasajeros del Titanic es diferente a 30 años?"
   ]
  },
  {
   "cell_type": "code",
   "execution_count": 636,
   "metadata": {},
   "outputs": [
    {
     "name": "stdout",
     "output_type": "stream",
     "text": [
      "No podemos rechazar la hipótesis nula de que la edad media es de 30 años (p-value = nan).\n"
     ]
    }
   ],
   "source": [
    "media_edad = np.mean(titanic['edad'])\n",
    "t_statistic, p_value = stats.ttest_1samp(titanic['edad'], 30)\n",
    "\n",
    "if p_value < 0.05:\n",
    "    print(f\"Rechazamos la hipótesis nula de que la edad media es de 30 años (p-value = {p_value:.2f}).\")\n",
    "else:\n",
    "    print(f\"No podemos rechazar la hipótesis nula de que la edad media es de 30 años (p-value = {p_value:.2f}).\")\n"
   ]
  }
 ],
 "metadata": {
  "kernelspec": {
   "display_name": "Python 3",
   "language": "python",
   "name": "python3"
  },
  "language_info": {
   "codemirror_mode": {
    "name": "ipython",
    "version": 3
   },
   "file_extension": ".py",
   "mimetype": "text/x-python",
   "name": "python",
   "nbconvert_exporter": "python",
   "pygments_lexer": "ipython3",
   "version": "3.10.1"
  },
  "orig_nbformat": 4
 },
 "nbformat": 4,
 "nbformat_minor": 2
}
