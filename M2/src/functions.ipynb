{
 "cells": [
  {
   "cell_type": "code",
   "execution_count": 1,
   "metadata": {},
   "outputs": [],
   "source": [
    "import pandas as pd\n",
    "import numpy as np\n",
    "from scipy import stats\n",
    "import matplotlib.pyplot as plt\n",
    "import math"
   ]
  },
  {
   "cell_type": "code",
   "execution_count": 2,
   "metadata": {},
   "outputs": [
    {
     "ename": "ModuleNotFoundError",
     "evalue": "No module named 'scipy'",
     "output_type": "error",
     "traceback": [
      "\u001b[1;31m---------------------------------------------------------------------------\u001b[0m",
      "\u001b[1;31mModuleNotFoundError\u001b[0m                       Traceback (most recent call last)",
      "Cell \u001b[1;32mIn[2], line 2\u001b[0m\n\u001b[0;32m      1\u001b[0m \u001b[39m#DISTRIBUCIÓN HIPERGEOMÉTRICA\u001b[39;00m\n\u001b[1;32m----> 2\u001b[0m \u001b[39mfrom\u001b[39;00m \u001b[39mscipy\u001b[39;00m \u001b[39mimport\u001b[39;00m stats\n\u001b[0;32m      3\u001b[0m \u001b[39m#M es N TAMAÑO DE MUESTRA, N es n BASQUET, n es k LO QUE TOMO?, k es x FUTBOL\u001b[39;00m\n\u001b[0;32m      5\u001b[0m M, n, k, N \u001b[39m=\u001b[39m [\u001b[39m12\u001b[39m, \u001b[39m5\u001b[39m, \u001b[39m1\u001b[39m, \u001b[39m3\u001b[39m] \u001b[39m#12 fusibles, 5 defectuosos, ¿1 defectuoso?, 3 al azar\u001b[39;00m\n",
      "\u001b[1;31mModuleNotFoundError\u001b[0m: No module named 'scipy'"
     ]
    }
   ],
   "source": [
    "#DISTRIBUCIÓN HIPERGEOMÉTRICA\n",
    "from scipy import stats\n",
    "#M es N TAMAÑO DE MUESTRA, N es n BASQUET, n es k LO QUE TOMO?, k es x FUTBOL\n",
    "\n",
    "M, n, k, N = [12, 5, 1, 3] #12 fusibles, 5 defectuosos, ¿1 defectuoso?, 3 al azar\n",
    "# hypergeom.cdf(x, M, n, N)\n",
    "hypergeo = stats.hypergeom(M,n,N)\n",
    "\n",
    "def probabilidad_hipergeometrica(N,X,n,x): #N son las 10 personas, 7 los de futbol, 3 al azar, ¿2 prefieren el futbol?\n",
    "    Xx = factorial(X) / (factorial(x) * factorial(X-x))\n",
    "    NX_nx= factorial(N-X)/(factorial(n-x)*factorial((N-X)-(n-x)))\n",
    "    Nn = factorial(N)/(factorial(n)*factorial(N-n))\n",
    "    hipergeometrica = (Xx * NX_nx)/Nn\n",
    "\n",
    "    return hipergeometrica"
   ]
  },
  {
   "cell_type": "code",
   "execution_count": 1,
   "metadata": {},
   "outputs": [],
   "source": [
    "def binomial(k, n, p):\n",
    "    exito = factorial(n)\n",
    "    eventos = factorial(k) * factorial(n - k)\n",
    "    exito_fracaso = pow(1 - p, (n-k)) * pow(p, k)\n",
    "    binomial_ = (exito/eventos) * exito_fracaso\n",
    "    return binomial_"
   ]
  },
  {
   "cell_type": "code",
   "execution_count": null,
   "metadata": {},
   "outputs": [
    {
     "data": {
      "text/plain": [
       "20"
      ]
     },
     "execution_count": 2,
     "metadata": {},
     "output_type": "execute_result"
    }
   ],
   "source": [
    "def permutaciones(N, k): #importa el orden --> N = total, k = lo que tomo\n",
    "    return math.factorial(N) // math.factorial(N - k)\n",
    "\n",
    "permutaciones(10, 3)"
   ]
  },
  {
   "cell_type": "code",
   "execution_count": 5,
   "metadata": {},
   "outputs": [
    {
     "data": {
      "text/plain": [
       "10"
      ]
     },
     "execution_count": 5,
     "metadata": {},
     "output_type": "execute_result"
    }
   ],
   "source": [
    "def combinaciones(n, c):#no importa el orden --> n = total, c = cantidad a tomar\n",
    "    return math.factorial(n) // (math.factorial(c) * math.factorial(n-c))\n",
    "\n",
    "combinaciones(5, 3)"
   ]
  },
  {
   "cell_type": "code",
   "execution_count": 7,
   "metadata": {},
   "outputs": [
    {
     "data": {
      "text/plain": [
       "12"
      ]
     },
     "execution_count": 7,
     "metadata": {},
     "output_type": "execute_result"
    }
   ],
   "source": [
    "#resultados posibles\n",
    "np.prod([2, 6])"
   ]
  }
 ],
 "metadata": {
  "kernelspec": {
   "display_name": "Python 3",
   "language": "python",
   "name": "python3"
  },
  "language_info": {
   "codemirror_mode": {
    "name": "ipython",
    "version": 3
   },
   "file_extension": ".py",
   "mimetype": "text/x-python",
   "name": "python",
   "nbconvert_exporter": "python",
   "pygments_lexer": "ipython3",
   "version": "3.11.2"
  },
  "orig_nbformat": 4
 },
 "nbformat": 4,
 "nbformat_minor": 2
}
