{
 "cells": [
  {
   "attachments": {},
   "cell_type": "markdown",
   "id": "e7bac9ff",
   "metadata": {},
   "source": [
    "# Homework\n",
    "\n",
    "Utilizando Python cálcular las siguientes probabilidades. Para cada uno intenta determinar que método aplicaste.\n"
   ]
  },
  {
   "cell_type": "code",
   "execution_count": 29,
   "id": "2d0a15c0",
   "metadata": {},
   "outputs": [],
   "source": [
    "import pandas as pd\n",
    "import numpy as np\n",
    "from scipy import stats\n",
    "import matplotlib.pyplot as plt\n",
    "import math"
   ]
  },
  {
   "attachments": {},
   "cell_type": "markdown",
   "id": "0c3783e0",
   "metadata": {},
   "source": [
    "1. Lanza una moneda al aire 10 veces, ¿cuantos resultados posibles forman parte del espacio muestral?"
   ]
  },
  {
   "cell_type": "code",
   "execution_count": 30,
   "id": "4d1fb13c",
   "metadata": {},
   "outputs": [
    {
     "data": {
      "text/plain": [
       "20"
      ]
     },
     "execution_count": 30,
     "metadata": {},
     "output_type": "execute_result"
    }
   ],
   "source": [
    "\"\"\"\n",
    "Lanzar una moneda --> S = {cara, X}\n",
    "Prob_cara = 0.5\n",
    "Prob_X = 0.5\n",
    "\"\"\"\n",
    "dimension = [2, 10]\n",
    "np.prod(dimension)"
   ]
  },
  {
   "attachments": {},
   "cell_type": "markdown",
   "id": "5491a13e",
   "metadata": {},
   "source": [
    "2. En un aeropuerto se tiene a 10 pasajeros esperando en la sala de preembarque, la polícia debe controlar a 3 de ellos. ¿Cuantas combinaciones posibles se pueden obtener?"
   ]
  },
  {
   "cell_type": "code",
   "execution_count": 31,
   "id": "5e719743",
   "metadata": {},
   "outputs": [
    {
     "name": "stdout",
     "output_type": "stream",
     "text": [
      "Cantidad de combinaciones:  120.0\n"
     ]
    }
   ],
   "source": [
    "n = 10 #total de pasajeros\n",
    "c = 3 #cantidad a controlar\n",
    "\n",
    "resultado = math.factorial(n) / (math.factorial(c) * math.factorial(n-c))\n",
    "print(\"Cantidad de combinaciones: \", resultado)"
   ]
  },
  {
   "attachments": {},
   "cell_type": "markdown",
   "id": "1c38f73f",
   "metadata": {},
   "source": [
    "2. La Agencia Nacional de Seguridad Vial realizó una investigación para saber si los conductores de auto están usando sus cinturones de seguridad. Los datos muestrales fueron los siguientes:\n",
    "Conductores que emplean el cinturón:\n",
    "\n",
    "![Ejercicio](../src/img/ejercicio3.png)"
   ]
  },
  {
   "attachments": {},
   "cell_type": "markdown",
   "id": "7eeea003",
   "metadata": {},
   "source": [
    "a) ¿Qué metodo cree que se utilizo para asignar probabilidades?\n",
    "\n",
    "Método determinístico."
   ]
  },
  {
   "attachments": {},
   "cell_type": "markdown",
   "id": "f07e97fb",
   "metadata": {},
   "source": [
    "b) Construya un cuadro similar, pero con la asignación de probabilidades."
   ]
  },
  {
   "cell_type": "code",
   "execution_count": 32,
   "id": "0407d18c",
   "metadata": {},
   "outputs": [
    {
     "data": {
      "text/html": [
       "<div>\n",
       "<style scoped>\n",
       "    .dataframe tbody tr th:only-of-type {\n",
       "        vertical-align: middle;\n",
       "    }\n",
       "\n",
       "    .dataframe tbody tr th {\n",
       "        vertical-align: top;\n",
       "    }\n",
       "\n",
       "    .dataframe thead th {\n",
       "        text-align: right;\n",
       "    }\n",
       "</style>\n",
       "<table border=\"1\" class=\"dataframe\">\n",
       "  <thead>\n",
       "    <tr style=\"text-align: right;\">\n",
       "      <th></th>\n",
       "      <th>Region</th>\n",
       "      <th>Si</th>\n",
       "      <th>No</th>\n",
       "    </tr>\n",
       "  </thead>\n",
       "  <tbody>\n",
       "    <tr>\n",
       "      <th>0</th>\n",
       "      <td>Norte</td>\n",
       "      <td>148</td>\n",
       "      <td>52</td>\n",
       "    </tr>\n",
       "    <tr>\n",
       "      <th>1</th>\n",
       "      <td>Noreste</td>\n",
       "      <td>162</td>\n",
       "      <td>54</td>\n",
       "    </tr>\n",
       "    <tr>\n",
       "      <th>2</th>\n",
       "      <td>Sur</td>\n",
       "      <td>296</td>\n",
       "      <td>74</td>\n",
       "    </tr>\n",
       "    <tr>\n",
       "      <th>3</th>\n",
       "      <td>Centro</td>\n",
       "      <td>252</td>\n",
       "      <td>48</td>\n",
       "    </tr>\n",
       "    <tr>\n",
       "      <th>5</th>\n",
       "      <td>Total</td>\n",
       "      <td>858</td>\n",
       "      <td>228</td>\n",
       "    </tr>\n",
       "  </tbody>\n",
       "</table>\n",
       "</div>"
      ],
      "text/plain": [
       "    Region   Si   No\n",
       "0    Norte  148   52\n",
       "1  Noreste  162   54\n",
       "2      Sur  296   74\n",
       "3   Centro  252   48\n",
       "5    Total  858  228"
      ]
     },
     "execution_count": 32,
     "metadata": {},
     "output_type": "execute_result"
    }
   ],
   "source": [
    "df_dict = {\n",
    "    \"Region\": [\"Norte\", \"Noreste\", \"Sur\", \"Centro\"],\n",
    "    \"Si\": [148, 162, 296, 252],\n",
    "    \"No\": [52, 54, 74, 48]\n",
    "}\n",
    "\n",
    "df = pd.DataFrame(df_dict)\n",
    "df.loc[5] = [\"Total\", df[\"Si\"].sum(), df[\"No\"].sum()]\n",
    "df"
   ]
  },
  {
   "cell_type": "code",
   "execution_count": 33,
   "id": "b3ebd9d2",
   "metadata": {},
   "outputs": [
    {
     "data": {
      "text/html": [
       "<div>\n",
       "<style scoped>\n",
       "    .dataframe tbody tr th:only-of-type {\n",
       "        vertical-align: middle;\n",
       "    }\n",
       "\n",
       "    .dataframe tbody tr th {\n",
       "        vertical-align: top;\n",
       "    }\n",
       "\n",
       "    .dataframe thead th {\n",
       "        text-align: right;\n",
       "    }\n",
       "</style>\n",
       "<table border=\"1\" class=\"dataframe\">\n",
       "  <thead>\n",
       "    <tr style=\"text-align: right;\">\n",
       "      <th></th>\n",
       "      <th>Region</th>\n",
       "      <th>Si</th>\n",
       "      <th>No</th>\n",
       "      <th>Prob_Si</th>\n",
       "      <th>Prob_No</th>\n",
       "    </tr>\n",
       "  </thead>\n",
       "  <tbody>\n",
       "    <tr>\n",
       "      <th>0</th>\n",
       "      <td>Norte</td>\n",
       "      <td>148</td>\n",
       "      <td>52</td>\n",
       "      <td>0.14</td>\n",
       "      <td>0.05</td>\n",
       "    </tr>\n",
       "    <tr>\n",
       "      <th>1</th>\n",
       "      <td>Noreste</td>\n",
       "      <td>162</td>\n",
       "      <td>54</td>\n",
       "      <td>0.15</td>\n",
       "      <td>0.05</td>\n",
       "    </tr>\n",
       "    <tr>\n",
       "      <th>2</th>\n",
       "      <td>Sur</td>\n",
       "      <td>296</td>\n",
       "      <td>74</td>\n",
       "      <td>0.27</td>\n",
       "      <td>0.07</td>\n",
       "    </tr>\n",
       "    <tr>\n",
       "      <th>3</th>\n",
       "      <td>Centro</td>\n",
       "      <td>252</td>\n",
       "      <td>48</td>\n",
       "      <td>0.23</td>\n",
       "      <td>0.04</td>\n",
       "    </tr>\n",
       "    <tr>\n",
       "      <th>5</th>\n",
       "      <td>Total</td>\n",
       "      <td>858</td>\n",
       "      <td>228</td>\n",
       "      <td>0.79</td>\n",
       "      <td>0.21</td>\n",
       "    </tr>\n",
       "  </tbody>\n",
       "</table>\n",
       "</div>"
      ],
      "text/plain": [
       "    Region   Si   No  Prob_Si  Prob_No\n",
       "0    Norte  148   52     0.14     0.05\n",
       "1  Noreste  162   54     0.15     0.05\n",
       "2      Sur  296   74     0.27     0.07\n",
       "3   Centro  252   48     0.23     0.04\n",
       "5    Total  858  228     0.79     0.21"
      ]
     },
     "execution_count": 33,
     "metadata": {},
     "output_type": "execute_result"
    }
   ],
   "source": [
    "suma_total = df.loc[5][1] + df.loc[5][2]\n",
    "df[\"Prob_Si\"] = round(df[\"Si\"] / suma_total, 2)\n",
    "df[\"Prob_No\"] = round(df[\"No\"] / suma_total, 2)\n",
    "df"
   ]
  },
  {
   "attachments": {},
   "cell_type": "markdown",
   "id": "b45657af",
   "metadata": {},
   "source": [
    "c) ¿Cuál sería el mejor método pára estimar la probabilidad de que en Estados Unidos un conductor lleve puesto el cinturón?\n",
    "\n",
    "Método probabilistico."
   ]
  },
  {
   "attachments": {},
   "cell_type": "markdown",
   "id": "ab62db97",
   "metadata": {},
   "source": [
    "d) Un año antes, la probabilidad en Argentina de que un conductor llevara puesto el cinturón era 0.75. El director de ANSV, se esperaba que la probabilidad llegara a 0.78. ¿Estará satisfecho con los resultados del estudio?\n",
    "\n",
    "\n",
    "Podemos observar que la probabilidad total de que lleven cinturón es de 0.79, mayor a la esperada."
   ]
  },
  {
   "attachments": {},
   "cell_type": "markdown",
   "id": "ea30c001",
   "metadata": {},
   "source": [
    "e) ¿Cuál es la probabilidad de que se use el cinturón en las distintas regiones del país? ¿En qué región se usa más el cinturón?(Utilizar misma tabla que el ejercicio anterior)\n",
    "\n",
    "Para la primera pregunta esta la columna \"prob_Si\"."
   ]
  },
  {
   "cell_type": "code",
   "execution_count": 34,
   "metadata": {},
   "outputs": [
    {
     "data": {
      "text/plain": [
       "'Sur'"
      ]
     },
     "execution_count": 34,
     "metadata": {},
     "output_type": "execute_result"
    }
   ],
   "source": [
    "indice = si_column = df.loc[df[\"Region\"] != \"Total\", \"Si\"].idxmax()\n",
    "df[\"Region\"][indice]"
   ]
  },
  {
   "attachments": {},
   "cell_type": "markdown",
   "id": "9990e1a5",
   "metadata": {},
   "source": [
    "4. Crear una funcion que permita calcular a probabilidad de los siguientes eventos en un baraja de 52 cartas.\n",
    "    - Obtener una carta roja.\n",
    "    - Obtener una carta negra.\n",
    "    - Obtener una pica.\n",
    "    - Obtener un trébol.\n",
    "    - Obtener un corazón.\n",
    "    - Obtener un diamante."
   ]
  },
  {
   "cell_type": "code",
   "execution_count": 35,
   "id": "a367f2d8",
   "metadata": {},
   "outputs": [
    {
     "data": {
      "text/plain": [
       "0.5"
      ]
     },
     "execution_count": 35,
     "metadata": {},
     "output_type": "execute_result"
    }
   ],
   "source": [
    "#Carta roja o negra --> 26/52\n",
    "#Carta por palo --> 13/52\n",
    "\n",
    "def probabilidadNaipes(categoria):\n",
    "    cartas_totales = 52\n",
    "    cartas_color = 26\n",
    "    cartas_palo = 13\n",
    "    if categoria == 'rojo' or categoria == 'negro':\n",
    "        return cartas_color / cartas_totales\n",
    "    elif categoria in ('pica', 'trebol', 'corazon', 'diamante'):\n",
    "        return cartas_palo / cartas_totales\n",
    "\n",
    "probabilidadNaipes('rojo')"
   ]
  },
  {
   "attachments": {},
   "cell_type": "markdown",
   "id": "1c614afb",
   "metadata": {},
   "source": [
    "5. La probabilidad de que salga un 7 o un 8 al seleccionar una carta de una baraja de las 52 cartas que contiene el mazo."
   ]
  },
  {
   "cell_type": "code",
   "execution_count": 36,
   "id": "04080e96",
   "metadata": {},
   "outputs": [
    {
     "data": {
      "text/plain": [
       "0.15384615384615385"
      ]
     },
     "execution_count": 36,
     "metadata": {},
     "output_type": "execute_result"
    }
   ],
   "source": [
    "4/52 + 4/52"
   ]
  },
  {
   "attachments": {},
   "cell_type": "markdown",
   "id": "891dfe1b",
   "metadata": {},
   "source": [
    "6. La probabilidad de que tu país gane el mundial de fútbol."
   ]
  },
  {
   "cell_type": "code",
   "execution_count": 37,
   "id": "4c232c66",
   "metadata": {},
   "outputs": [
    {
     "data": {
      "text/plain": [
       "0.03125"
      ]
     },
     "execution_count": 37,
     "metadata": {},
     "output_type": "execute_result"
    }
   ],
   "source": [
    "1/32"
   ]
  },
  {
   "attachments": {},
   "cell_type": "markdown",
   "id": "8cd3bc7c",
   "metadata": {},
   "source": [
    "7. Un experimento que tiene tres resultados es repetido 50 veces y se ve que E1 aparece 20 veces, E2 13 veces y E3 17 veces. Asigne probabilidades a los resultados."
   ]
  },
  {
   "cell_type": "code",
   "execution_count": 38,
   "id": "8f36f388",
   "metadata": {},
   "outputs": [
    {
     "name": "stdout",
     "output_type": "stream",
     "text": [
      "40.0 26.0 34.0\n"
     ]
    }
   ],
   "source": [
    "e1 = 20/50\n",
    "e2 = 13/50\n",
    "e3 = 17/50\n",
    "\n",
    "print(e1*100, e2*100, e3*100)"
   ]
  },
  {
   "attachments": {},
   "cell_type": "markdown",
   "id": "7e3ec8f5",
   "metadata": {},
   "source": [
    "## Desafíos complementarios\n",
    "\n",
    "### Investiga e intenta resolver los siguientes ejercicios\n",
    "\n",
    "Si la probabilidad de que un cliente pague en efectivo (E) es 6/15, con tarjeta de crédito (TD) es 7/15 y con tarjeta de débito (TD) es 2/15. Hallar la probabilidad de que dos clientes sucesivos que pagan sus cuentas lo hagan:"
   ]
  },
  {
   "attachments": {},
   "cell_type": "markdown",
   "id": "a7e1b9f8",
   "metadata": {},
   "source": [
    "a) el primero en efectivo y el segundo con tarjeta de crédito."
   ]
  },
  {
   "cell_type": "code",
   "execution_count": 39,
   "id": "4a4d3181",
   "metadata": {},
   "outputs": [
    {
     "data": {
      "text/plain": [
       "0.18666666666666668"
      ]
     },
     "execution_count": 39,
     "metadata": {},
     "output_type": "execute_result"
    }
   ],
   "source": [
    "efectivo = 6/15\n",
    "credito = 7/15\n",
    "debito = 2/15\n",
    "\n",
    "a = efectivo * credito\n",
    "\n",
    "a"
   ]
  },
  {
   "attachments": {},
   "cell_type": "markdown",
   "id": "e4f0d180",
   "metadata": {},
   "source": [
    "b) Los dos clientes en efectivo."
   ]
  },
  {
   "cell_type": "code",
   "execution_count": 40,
   "id": "46a7aaf0",
   "metadata": {},
   "outputs": [
    {
     "data": {
      "text/plain": [
       "0.16000000000000003"
      ]
     },
     "execution_count": 40,
     "metadata": {},
     "output_type": "execute_result"
    }
   ],
   "source": [
    "b = efectivo * efectivo\n",
    "\n",
    "b"
   ]
  },
  {
   "attachments": {},
   "cell_type": "markdown",
   "id": "f4e12b9f",
   "metadata": {},
   "source": [
    "La probabilidad de que un Henry repruebe el M1 de 0.8, de que apruebe M2 es 0.5 y de que repruebe el M3 es de 0.4.\n",
    "(Los eventos no interfieren entre si)\n",
    "\n",
    "![Tabla](../src/img/probhenry.png)\n",
    "\n",
    "Determinar la probabilidad de que:\n",
    "\n",
    "a) Apruebe un módulo.\n",
    "\n",
    "b) Repruebe las tres materias."
   ]
  },
  {
   "cell_type": "code",
   "execution_count": 41,
   "id": "3896cfc2",
   "metadata": {},
   "outputs": [
    {
     "data": {
      "text/plain": [
       "0.44000000000000006"
      ]
     },
     "execution_count": 41,
     "metadata": {},
     "output_type": "execute_result"
    }
   ],
   "source": [
    "#a)\n",
    "ADD = 0.2 * 0.5 * 0.4\n",
    "DAD = 0.8 * 0.5 * 0.4\n",
    "DDA = 0.8 * 0.5 * 0.6\n",
    "\n",
    "aprobar = ADD + DAD + DDA\n",
    "aprobar"
   ]
  },
  {
   "cell_type": "code",
   "execution_count": 42,
   "id": "25d0de71",
   "metadata": {},
   "outputs": [
    {
     "data": {
      "text/plain": [
       "0.84"
      ]
     },
     "execution_count": 42,
     "metadata": {},
     "output_type": "execute_result"
    }
   ],
   "source": [
    "DDD = 0.8*0.5*0.4\n",
    "1 - DDD"
   ]
  }
 ],
 "metadata": {
  "kernelspec": {
   "display_name": "Python 3 (ipykernel)",
   "language": "python",
   "name": "python3"
  },
  "language_info": {
   "codemirror_mode": {
    "name": "ipython",
    "version": 3
   },
   "file_extension": ".py",
   "mimetype": "text/x-python",
   "name": "python",
   "nbconvert_exporter": "python",
   "pygments_lexer": "ipython3",
   "version": "3.10.1"
  }
 },
 "nbformat": 4,
 "nbformat_minor": 5
}
