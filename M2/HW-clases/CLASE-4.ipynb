{
 "cells": [
  {
   "cell_type": "markdown",
   "id": "b44b0cc7",
   "metadata": {},
   "source": [
    "# Clase 4: Distribuciones de probabilidad"
   ]
  },
  {
   "cell_type": "markdown",
   "id": "90336f11",
   "metadata": {},
   "source": [
    "Supongamos que un experimento consiste en lanzar dos monedas.\n",
    "\n",
    "El **espacio muestral** es {(H, H), (H, T), (T, H), (T, T)}\n",
    "\n",
    "Cada vez que lanzamos las monedas, registramos la **cantidad de veces que sale cara (H)**.\n",
    "\n",
    "Esto nos daría la siguiente asignación de valores:\n",
    "\n",
    "(H, H) = 2  \n",
    "(H, T) = 1  \n",
    "(T, H) = 1  \n",
    "(T, T) = 0  \n",
    "\n",
    "A esta asignación de valores a cada uno de los elementos del espacio muestral se la llama **variable aleatoria**.\n",
    "\n",
    "Para un mismo espacio muestral, podemos definir muchas variables aleatorias. Por ejemplo, podríamos definir una que me indique si la primera moneda es cara de la siguiente manera:\n",
    "\n",
    "(H, H) = 1  \n",
    "(H, T) = 1  \n",
    "(T, H) = 0  \n",
    "(T, T) = 0  \n",
    "\n",
    "### Ejercicio\n",
    "\n",
    "¿Qué otras variables aleatorias pueden definir sobre este espacio muestral?"
   ]
  },
  {
   "cell_type": "markdown",
   "id": "5732c45c",
   "metadata": {},
   "source": [
    "## Distribución de probabilidad\n",
    "\n",
    "A su vez, a cada uno de estos valores se les puede asignar una **probabilidad**.\n",
    "\n",
    "Por ejemplo, en el primer caso, teníamos la variable aleatoria correspondiente a la cantidad de veces que había salido cara en un lanzamiento de dos monedas. Llamemos a esa variable $N$. \n",
    "\n",
    "$$N = {(H, H) = 2, (H, T) = 1, (T, H) = 1, (T, T) = 0}$$\n",
    "\n",
    "Esto nos da la siguiente lista de eventos simples: N = 2, N = 1, N = 0.\n",
    "\n",
    "Podemos, entonces, asignar la probabilidad de cada uno de estos eventos de la siguiente manera:\n",
    "\n",
    "P(N = 2) = $\\frac{1}{4}$\n",
    "\n",
    "P(N = 1) = $\\frac{1}{2}$\n",
    "\n",
    "P(N = 0) = $\\frac{1}{4}$\n",
    "\n",
    "A esta asignación de probabilidades la llamamos una **distribución**"
   ]
  },
  {
   "cell_type": "markdown",
   "id": "ce6dd131",
   "metadata": {},
   "source": [
    "En el segundo ejemplo, teníamos:\n",
    "\n",
    "(H, H) = 1\n",
    "(H, T) = 1\n",
    "(T, H) = 0\n",
    "(T, T) = 0  \n",
    "\n",
    "Si llamamos a esta variable aleatoria $X$, tenemos los eventos $X = 1$, $X = 0$.\n",
    "\n",
    "Una distribución de probabilidades puede ser:\n",
    "\n",
    "P(X = 1) = $\\frac{1}{2}$\n",
    "\n",
    "P(X = 0) = $\\frac{1}{2}$"
   ]
  },
  {
   "attachments": {},
   "cell_type": "markdown",
   "id": "d451f001",
   "metadata": {},
   "source": [
    "# Ejemplo\n",
    "\n",
    "![tablaest](../src/img/tablaest.png)"
   ]
  },
  {
   "cell_type": "markdown",
   "id": "eedcc055",
   "metadata": {},
   "source": [
    "Vamos a construir paso a paso la distribución de probabilidades para el siguiente experimento:\n",
    "\n",
    "Supongamos que elegimos tres autos vendidos y registramos su origen.\n",
    "\n",
    "Los resultados posibles son ocho:"
   ]
  },
  {
   "attachments": {},
   "cell_type": "markdown",
   "id": "b43758f8",
   "metadata": {},
   "source": [
    "![autos](../src/img/tablaautos.png)"
   ]
  },
  {
   "cell_type": "markdown",
   "id": "bc0bfeee",
   "metadata": {},
   "source": [
    "En la primera tabla, la variable _ORIGEN_ tiene dos valores posibles: Nacional e Importado.\n",
    "\n",
    "El espacio muestral es {Nacional, Importado}\n",
    "\n",
    "Construyamos la variable aleatoria O:\n",
    "\n",
    "Nacional = 1\n",
    "\n",
    "Importado = 0\n",
    "\n",
    "De acuerdo con la primera tabla, la distribución de probabilidades de O es:\n",
    "\n",
    "P(O = 1) = $\\frac{50}{80}$ = $\\frac{5}{8}$\n",
    "\n",
    "P(O = 0) = $\\frac{30}{80}$ = $\\frac{3}{8}$"
   ]
  },
  {
   "cell_type": "markdown",
   "id": "c96b8c39",
   "metadata": {},
   "source": [
    "La última columna es la **variable aleatoria** N° de autos nacionales que, a cada elemento del espacio muestral le asigna el número de autos nacionales dentro de los tres seleccionados.\n",
    "\n",
    "(N, N, N) = 3  \n",
    "(N, N, I) = 2  \n",
    "(N, I, N) = 2  \n",
    "(I, N, N) = 2  \n",
    "(N, I, I) = 1  \n",
    "(I, N, I) = 1  \n",
    "(I, I, N) = 1  \n",
    "(I, I, I) = 0  "
   ]
  },
  {
   "cell_type": "code",
   "execution_count": 1,
   "id": "00499efe",
   "metadata": {},
   "outputs": [
    {
     "data": {
      "text/plain": [
       "0.263671875"
      ]
     },
     "execution_count": 1,
     "metadata": {},
     "output_type": "execute_result"
    }
   ],
   "source": [
    "5/8*3/8*3/8 * 3"
   ]
  },
  {
   "cell_type": "markdown",
   "id": "7181df54",
   "metadata": {},
   "source": [
    "Ahora bien, cada uno de esos elementos del espacio muestral de nuestro experimento es un conjunto de elementos del espacio muestral correspondiente a la variable O (origen), por lo que la probabilidad de cada triplo de valores tiene que depender de los valores de P(0 = _i_)."
   ]
  },
  {
   "cell_type": "code",
   "execution_count": null,
   "metadata": {},
   "outputs": [],
   "source": []
  },
  {
   "cell_type": "markdown",
   "id": "a7b4d09d",
   "metadata": {},
   "source": [
    "Por lo tanto, de acuerdo con las **reglas de la suma y la multiplicación**, la distribución de probabilidades para la variable aleatoria X = **N° de autos nacionales** es:\n",
    "\n",
    "P(X = 3) es la probabilidad de que los tres autos seleccionados sean de origen nacional. La probabilidad de que un auto sea nacional es $\\frac{5}{8}$. \n",
    "\n",
    "Como se trata de un caso de ventas **con reposición**, la venta de un auto nacional no afecta las probabilidades de que la siguiente venta.\n",
    "\n",
    "Por lo tanto, la probabilidad de la secuencia (N, N, N), es decir, del evento X = 3 se calcula:\n",
    "\n",
    "$$P(X = 3) = \\frac{5}{8} \\times \\frac{5}{8} \\times \\frac{5}{8} = \\frac{125}{512}$$ "
   ]
  },
  {
   "cell_type": "markdown",
   "id": "786d79ef",
   "metadata": {},
   "source": [
    "Si consideramos el evento X = 2, vemos que tenemos 3 posibilidades sobre un total de 8:\n",
    "\n",
    "{(N, N, I)}  \n",
    "{(N, I, N)}  \n",
    "{(I, N, N)}  \n",
    "\n",
    "La probabilidad de la primera de estas secuencias es:\n",
    "\n",
    "$$\\frac{5}{8} \\times \\frac{5}{8} \\times \\frac{3}{8} = \\frac{75}{512}$$\n",
    "\n",
    "Dado que la multiplicación es conmutativa, la probabilidad de las otras dos secuencias es, también, $\\frac{75}{512}$\n",
    "\n",
    "Finalmente, estos eventos son excluyentes entre sí, por lo que la probabilidad de obtener uno cualquiera de ellos es la suma de las probabilidades de cada uno:\n",
    "\n",
    "$$\\frac{75}{512} + \\frac{75}{512} + \\frac{75}{512} = \\frac{225}{512}$$\n",
    "\n"
   ]
  },
  {
   "cell_type": "code",
   "execution_count": 2,
   "id": "952f39db",
   "metadata": {},
   "outputs": [
    {
     "data": {
      "text/plain": [
       "0.439453125"
      ]
     },
     "execution_count": 2,
     "metadata": {},
     "output_type": "execute_result"
    }
   ],
   "source": [
    "225/512"
   ]
  },
  {
   "attachments": {},
   "cell_type": "markdown",
   "id": "afb6dd88",
   "metadata": {},
   "source": [
    "El resultado para las ocho opciones es:\n",
    "\n",
    "![distr](../src/img/distr.png)"
   ]
  },
  {
   "cell_type": "markdown",
   "id": "59198f61",
   "metadata": {},
   "source": [
    "# Características de las Distribuciones de Probabilidad"
   ]
  },
  {
   "cell_type": "markdown",
   "id": "44862e3e",
   "metadata": {},
   "source": [
    "# Distribuciones de Probabilidad - Variables Discretas"
   ]
  },
  {
   "cell_type": "markdown",
   "id": "4f16092d",
   "metadata": {},
   "source": [
    "# Distribución de Bernoulli\n",
    "\n",
    "Supóngase un experimento que tiene únicamente dos resultados posibles {a, b} y la variable aleatoria X:\n",
    "\n",
    "X(a) = 1\n",
    "X(b) = 0\n",
    "\n",
    "con la siguiente distribución de probabilidad:\n",
    "\n",
    "P(X = 0) = 1 - P(X = 1)\n",
    "\n",
    "Decimos que la variable aleatoria X tiene una **distribución de Bernoulli**"
   ]
  },
  {
   "cell_type": "markdown",
   "id": "573f3a94",
   "metadata": {},
   "source": [
    "## Ejemplos\n",
    "\n",
    "**1) Lanzamiento de una moneda**\n",
    "\n",
    "Espacio muestral: S = {H, T}\n",
    "\n",
    "X = {(H, 1), (T, 0)}\n",
    "\n",
    "P(X = 1) = 0.5\n",
    "\n",
    "P(X = 0) = 1 - P(X = 1) = 1 - 0.5 = 0.5"
   ]
  },
  {
   "cell_type": "markdown",
   "id": "7bd63b44",
   "metadata": {},
   "source": [
    "**2) Hacer match en Tinder**\n",
    "\n",
    "S = {Sí, No}\n",
    "\n",
    "X = {(Sí, 1), (No, 0)}\n",
    "\n",
    "P(X = 1) = 0.02\n",
    "\n",
    "P(X = 0) = 1 - P(X = 1) = 1 - 0.02 = 0.98\n"
   ]
  },
  {
   "cell_type": "markdown",
   "id": "83e34dca",
   "metadata": {},
   "source": [
    "# Distribución binomial\n",
    "\n",
    "Supongamos una variable aleatoria X que tiene dos valores posibles (1, 0), con probabilidades:\n",
    "\n",
    "P(X = 1) = p\n",
    "\n",
    "P(X = 0) = 1 - p\n",
    "\n",
    "Ahora supongamos una serie de n experimentos en los que se determina el valor de X. Los resultados de ese experimento son n-tuplas por unos y ceros:\n",
    "\n",
    "($x_{1}$, ..., $x_{n}$) \n",
    "\n",
    "La probabilidad para cada secuencia es (asumiendo que los experimentos son independientes):\n",
    "\n",
    "$$P(\\{(x_{1},...,x_{n})\\}) = \\prod_{i=1}^{n} x_{i}$$\n",
    "\n",
    "Supongamos la variable aleatoria Y que a cada n-tupla $y_{i}$ le asigna el número de unos en la secuencia.\n",
    "\n",
    "La distrubución resultante, se puede calcular de la siguiente manera:\n",
    "\n",
    "1) Primero tenemos que determinar cuántas secuencias tienen un número k de elementos con valor 1. Por ejemplo, la secuencia (1, 0, 0, 1, 0) tiene n = 5 y k = 2. ¿Cuántas secuencias con dos elementos iguales a uno tenemos? La respuesta se obtiene calculando el número de combinaciones de dos elementos entre cinco:\n",
    "\n",
    "$$C_{2}^{5} = \\frac{5!}{2!(5 - 2)!} = 10$$\n",
    "\n",
    "En general, el número de n-tuplas que tienen k entradas iguales a 1, para cada valor de k entre cero y n, es:\n",
    "\n",
    "$$C_{0}^{n} = \\frac{n!}{ 0!(n - 0)!} = 1$$\n",
    "$$C_{1}^{n} = \\frac{n!}{ 1!(n - 1)!} = \\frac{n!}{(n - 1}!$$\n",
    "$$C_{2}^{n} = \\frac{n!}{ 2!(n - 2)!} = \\frac{n!}{2(n - 1)!}$$\n",
    "$$...$$\n",
    "$$C_{n}^{n} = \\frac{n!}{ n!(n - n)!} = 1$$\n",
    "\n",
    "2) La probabilidad de obtener una secuencia particular de n elementos con k términos iguales a 1 y n - k elementos iguales a 0 es:\n",
    "\n",
    "$$P(X = 1)^{k}P(X = 0)^{(n - k)}$$\n",
    "\n",
    "3) Como existen $\\binom{n}{k}$ secuencias con k elemtentos iguales a uno, debemos multiplicar cada una de las secuencias por el número de combinaciones con k elementos iguales a 1. Esto es:\n",
    "\n",
    "$$P(Y = k) = \\binom{n}{k} P(X = 1)^{k}P(X = 0)^{(n - k)}$$\n",
    "\n",
    "A esta distribución se la denomina **distribución binomial**."
   ]
  },
  {
   "cell_type": "markdown",
   "id": "cd863672",
   "metadata": {},
   "source": [
    "# Graficando Binomial"
   ]
  },
  {
   "cell_type": "markdown",
   "id": "babad6b2",
   "metadata": {},
   "source": [
    "# Ejemplos\n",
    "\n",
    "Se arrojan cinco monedas al aire. ¿Cuál es la probabilidad de que tres sean cara?\n",
    "\n",
    "**Respuesta:**\n",
    "\n",
    "Tenemos la variable aleatoria X = {(H, 1), (T, 0)}\n",
    "\n",
    "Si suponemos:\n",
    "\n",
    "P(X = 1) = P(X = 0) = 0.5\n",
    "\n",
    "Tenemos $2^{5}$ resultados posibles: (1, 1, 1, 1, 1), (1, 1, 1, 1, 0), ..., (0, 0, 0, 0, 0).\n",
    "\n",
    "¿Cuántos de estos 32 resultados tienen k = 3 entradas donde X = 1 y (n - k) = 2 entradas con X = 0?\n",
    "\n",
    "$$C_{3}^{5} = \\frac{5!}{3!(5 - 3)!} = 10$$\n",
    "\n",
    "Por lo tanto, la probabilidad de obtener tres caras en el experimento es:\n",
    "\n",
    "$$\\binom{5}{3}P(X = 1)^{3}P(X = 0)^{(5 - 3)} = 10 \\times 0.5^{3} \\times 0.5^{2} = 0.3125$$"
   ]
  },
  {
   "cell_type": "markdown",
   "id": "88584232",
   "metadata": {},
   "source": [
    "# Poisson\n",
    "\n",
    "https://www.geogebra.org/m/jbTtCr7R\n",
    "\n",
    "\n",
    "Se suele usar para estimar **el número de veces que sucede un hecho determinado (ocurrencias) en un intervalo de tiempo o de espacio**. \n",
    "\n",
    "Por ejemplo, la variable de interés puede ser: \n",
    "\n",
    "- el número de automóviles que llegan (llegadas) a un lavado de coches en una hora\n",
    "- el número de reparaciones necesarias en 10 km de una autopista\n",
    "- el número de fugas en 100 km de tubería. \n",
    "\n",
    "PROPIEDADES DE UN EXPERIMENTO DE POISSON\n",
    "\n",
    "- La probabilidad de ocurrencia es la misma para cualesquiera dos intervalos de la misma magnitud.\n",
    "\n",
    "- La ocurrencia o no-ocurrencia en cualquier intervalo es independiente de la ocurrencia o no-ocurrencia en cualquier otro intervalo. \n",
    "\n",
    "- La varibale aleatoria es el número de veces que ocurre un evento en un intervalo de tiempo, distancia, area, volumen u otra similar."
   ]
  },
  {
   "cell_type": "markdown",
   "id": "1ae90602",
   "metadata": {},
   "source": [
    "## Relación entre la distribución binomial y la distribución de Poisson\n",
    "\n",
    "Recordemos que la distribución binomial se obtenía mediante la siguiente fórmula:\n",
    "\n",
    "$$\\binom{n}{k}P^{k}Q^{(n - k)}$$\n",
    "\n",
    "donde \n",
    "\n",
    "- P es la probabilidad de éxito (de que la variable aleatoria X sea igual a 1)\n",
    "\n",
    "- Q = 1 - P es la probabilidad de fracaso (la variable aleatoria X = 0)\n",
    "\n",
    "- n es el número total de datos \n",
    "\n",
    "- k la cantidad de datos exitosos\n",
    "\n",
    "Si desarrollamos la fórmula anterior, obtenemos:\n",
    "\n",
    "$$\\frac{n!}{k!(n - k)!}P^{k}(1 - P)^{(n - k)} = \\frac{n(n - 1)(n - 2)...(n - k + 1)}{k!}P^{k}(1 - P)^{(n - k)}$$\n",
    "\n",
    "(el término (n - k)! del denominador se simplifica con los términos correspondientes del numerador)\n",
    "\n",
    "En el numerador tenemos k términos. Si sacamos factor común n y reordenamos los términos, obtenemos:\n",
    "\n",
    "$$\\frac{n!}{k!(n - k)!}P^{k}(1 - P)^{(n - k)} = \\left(1 - \\frac{1}{n}\\right)\\left(1 - \\frac{2}{n}\\right) ... \\left(1 -\\frac{k - 1}{n}\\right)\\frac{(nP)^{k}}{k!}(1 - P)^{(n - k)}$$\n",
    "\n",
    "Definimos $\\lambda = nP$, por lo que la fórmula resultante es:\n",
    "\n",
    "$$\\frac{n!}{k!(n - k)!}P^{k}(1 - P)^{(n - k)} = \\left(1 - \\frac{1}{n}\\right)\\left(1 - \\frac{2}{n}\\right) ... \\left(1 -\\frac{k - 1}{n}\\right)\\frac{\\lambda^{k}}{k!}\\left(1 - \\frac{\\lambda}{n}\\right)^{(n - k)}$$\n",
    "\n",
    "Dado que:\n",
    "\n",
    "$$\\lim\\limits_{n \\to \\infty} \\left(1 - \\frac{\\lambda}{n}\\right)^{n} = e^{-\\lambda}$$\n",
    "\n",
    "Si k es suficientemente chico, tenemos que \n",
    "\n",
    "$$\\frac{\\lambda^{k}}{k!}\\left(1 - \\frac{\\lambda}{n}\\right)^{(n - k)} \\approx \\frac{\\lambda^{k}}{k!}e^{\\lambda}$$\n",
    "\n",
    "que es la **distribución de Poisson**.\n",
    "\n",
    "Esto nos permite pensar en la distribución de Poisson de la siguiente manera:\n",
    "\n",
    "- Realizamos un experimento un número n de veces suficientemente grande.\n",
    "- La probabilidad de éxito es P (suficientemente chica en relación con n).\n",
    "- La probabilidad de obtener k éxitos viene dada (aproximadamente) por la fórmula anterior.\n",
    "- $\\lambda$ es el promedio de éxitos.\n",
    "\n",
    "Si n es muy grande, calcular directamente usando la formula para la distribución binomial requeriría calcular n! para un número muy grande."
   ]
  },
  {
   "cell_type": "markdown",
   "id": "852abead",
   "metadata": {},
   "source": [
    "# Ejemplo\n",
    "\n",
    "Supongamos que conozco que el **promedio** de personas que se conectan a una aplicación web cada minuto del día es de $\\lambda$ = 5. ¿Cuál es la probabilidad de que en un momento dado haya k = 10 personas conectadas?\n",
    "\n",
    "La fórmula de Poisson nos dice que esta probabilidad es:\n",
    "\n",
    "$$\\frac{\\lambda^{k}}{k!}e^{-\\lambda} = \\frac{5^{10}}{10!}e^{-5} = 0.01813$$"
   ]
  },
  {
   "cell_type": "code",
   "execution_count": 3,
   "id": "7559d49e",
   "metadata": {},
   "outputs": [],
   "source": [
    "from math import e, factorial\n",
    "\n",
    "def poisson(lambda_, k):\n",
    "    probabilidad = (pow(lambda_, k) * pow(e, -lambda_))/factorial(k)\n",
    "    return probabilidad"
   ]
  },
  {
   "cell_type": "code",
   "execution_count": 4,
   "id": "831c10d7",
   "metadata": {},
   "outputs": [
    {
     "data": {
      "text/plain": [
       "0.018132788707821874"
      ]
     },
     "execution_count": 4,
     "metadata": {},
     "output_type": "execute_result"
    }
   ],
   "source": [
    "poisson(5, 10)"
   ]
  },
  {
   "cell_type": "code",
   "execution_count": 5,
   "id": "22f8371d",
   "metadata": {},
   "outputs": [
    {
     "name": "stdout",
     "output_type": "stream",
     "text": [
      "2.718281828459045\n"
     ]
    }
   ],
   "source": [
    "print(e)"
   ]
  },
  {
   "cell_type": "markdown",
   "id": "aba394c8",
   "metadata": {},
   "source": [
    "# Distribución hipergeométrica\n",
    "\n",
    "Una empresa fabrica fusibles que empaca en cajas de 12 unidades cada una. \n",
    "\n",
    "Asuma que un inspector selecciona al azar **tres** de los 12 fusibles de una caja para inspeccionarlos. \n",
    "\n",
    "Si la caja contiene exactamente **cinco** fusibles defectuosos, ¿cuál es la probabiidad de que el inspector encuentre que uno de los tres fusibles está defectuoso? En esta aplicación \n",
    "\n",
    "k = 3\n",
    "\n",
    "N = 12. \n",
    "\n",
    "r = 5\n",
    "\n",
    "Si saco tres fusibles, tengo ocho resultados posibles:\n",
    "\n",
    "(1, 1, 1)\n",
    "\n",
    "(1, 1, 0)\n",
    "\n",
    "(1, 0, 1)\n",
    "\n",
    "(1, 0, 0)\n",
    "\n",
    "(0, 1, 1)\n",
    "\n",
    "(0, 1, 0)\n",
    "\n",
    "(0, 0, 1)\n",
    "\n",
    "(0, 0, 0)\n",
    "\n",
    "1) La probabilidad de que el primer fusible sea defectuoso es de $\\frac{5}{12}$ y $\\frac{7}{12}$ de que no sea defectuoso.\n",
    "\n",
    "2) Cuando saco el segundo fusible, la probabilidad depende del resultado anterior. Tengo 11 fusibles en la caja. \n",
    "\n",
    "- Si el primer fusible era defectuoso, ahora quedan 4, por lo que la probabilidad de que el segundo sea defectuoso es de $\\frac{4}{11}$.\n",
    "\n",
    "- Si el primer fusible no era defectuoso, la probabilidad es de $\\frac{5}{11}$\n",
    "\n",
    "3) Finalmente, cuando saco el tercer fusible, tengo 10 en la caja. La cantidad de fusibles defectuosos depende de los dos resultados anteriores:\n",
    "\n",
    "- (1, 1): quedan 3 defectuosos en la caja. La probabilidad es $\\frac{3}{10}$\n",
    "\n",
    "- (1, 0) y (0, 1): quedan 4 defectuosos. La probabilidad es de $\\frac{4}{10}$\n",
    "\n",
    "- (0, 0): quedan 5 defectuosos. La probabilidad es de $\\frac{5}{10}$"
   ]
  },
  {
   "cell_type": "markdown",
   "id": "0db050d0",
   "metadata": {},
   "source": [
    "La cantidad de tríos, k = 3, que pueden obtenerse **con reposición** de una población de N = 12 es:\n",
    "\n",
    "$$\\binom{12}{3} = \\frac{12!}{3!(12 - 3)!} = 220$$\n",
    "\n",
    "Las posibilidades de obtener **exactamente** un fusil defectuoso (k = 1) en una muestra de n = 3 **con reposición** es:\n",
    "\n",
    "$$\\binom{3}{1} = \\frac{3!}{1!(3 - 1)!} = 3$$\n",
    "\n",
    "La probabilidad es de $\\frac{3}{8}\n",
    "\n"
   ]
  },
  {
   "cell_type": "markdown",
   "id": "25e9e075",
   "metadata": {},
   "source": [
    "La distribución hipergeométrica se obtiene mediante la siguiente fórmula:\n",
    "\n",
    "$$f(x) = \\frac{ \\binom{r}{x}\\binom{N - r}{n - x} }{ \\binom{N}{n} }$$\n",
    "\n",
    "\n",
    "En el ejemplo, tenemos:\n",
    "\n",
    "N = 12\n",
    "r = 5\n",
    "n = 3\n",
    "x = 1\n",
    "\n",
    "$$f(x) = \\frac{ \\binom{5}{1}\\binom{12 - 5}{3 - 1} }{ \\binom{12}{3} }$$"
   ]
  },
  {
   "cell_type": "markdown",
   "id": "d18ee227",
   "metadata": {},
   "source": [
    "$$\\frac{5! \\times 7! \\times 3! \\times (12 - 3)!}{1! \\times (5 - 1)!\\times 2! \\times (7 - 2)! \\times 12!} = \\frac{5! \\times 7! \\times 3! \\times 9!}{1! \\times 4!\\times 2! \\times 5! \\times 12!} = 0.4773$$"
   ]
  },
  {
   "cell_type": "code",
   "execution_count": null,
   "id": "88dbf68d",
   "metadata": {},
   "outputs": [],
   "source": []
  },
  {
   "cell_type": "markdown",
   "id": "c3ae25b2",
   "metadata": {},
   "source": [
    "# Variables continuas\n",
    "\n",
    "Las variables aleatorias continuas asignan un intervalo (a, b] a cada elemento del espacio muestral.\n",
    "\n",
    "Estan dadas por una **función de densidad** $f(x)$ y la **probabilidad** de que una variable aleatoria X adquiera un valor en el intervalo delimitado por a y b está dada por el **área A bajo la curva** cuyo valor se encuentra integrando la función $f(x)$ entre ambos valores.\n",
    "\n",
    "$$P(X \\in (a, b]) \\int \\limits_{a}^{b} f(x) dx$$"
   ]
  },
  {
   "attachments": {},
   "cell_type": "markdown",
   "id": "02b679c7",
   "metadata": {},
   "source": [
    "### Distribución normal\n",
    "\n",
    "La distribución normal tiene **gran cantidad de aplicaciones prácticas**, en las cuales la variable aleatoria puede ser:\n",
    "- el peso de una persona\n",
    "- la estatura de una persona\n",
    "- puntuaciones de exámenes\n",
    "- resultados de mediciones científicas\n",
    "- precipitación pluvial \n",
    "\n",
    "La distribución normal también tiene una importante aplicación en inferencia estadística. En estas aplicaciones, la distribución normal describe qué tan probables son los resultados obtenidos de un muestreo.\n",
    "\n",
    "La fórmula de la función de densidad es:\n",
    "\n",
    "$$f(x) = \\frac{1}{\\sigma\\sqrt{2\\pi}}e^{ -(x - \\mu)^{2}/2\\sigma^{2} }$$\n",
    "\n",
    "donde:\n",
    "\n",
    "- $\\sigma$ es la desviación estándar\n",
    "\n",
    "- $\\mu$ es la media\n",
    "\n",
    "![normal](../src/img/normalareas.png)"
   ]
  },
  {
   "cell_type": "markdown",
   "id": "18a7c8d2",
   "metadata": {},
   "source": [
    "Si la media $\\mu$ = 0 y la desviación estándar $\\sigma$ = 1, obtenemos la llamada **distribución normal estandarizada**, cuya fórmula es:\n",
    "\n",
    "$$f(x) = \\frac{1}{\\sqrt{2\\pi}}e^{ -x^{2}/2 }$$\n",
    "\n",
    "Dada cualquier distribución normal de una variable aleatoria X, podemos obtener una distribución estandarizada definiendo la variable aleatoria Z de la siguiente manera:\n",
    "\n",
    "$$Z = \\frac{X - \\mu}{\\sigma}$$"
   ]
  },
  {
   "cell_type": "code",
   "execution_count": 6,
   "id": "1c7348e6",
   "metadata": {},
   "outputs": [],
   "source": [
    "from scipy import stats"
   ]
  },
  {
   "cell_type": "code",
   "execution_count": 7,
   "id": "ff5f36e0",
   "metadata": {},
   "outputs": [
    {
     "data": {
      "text/plain": [
       "0.024997895148220435"
      ]
     },
     "execution_count": 7,
     "metadata": {},
     "output_type": "execute_result"
    }
   ],
   "source": [
    "stats.norm(0, 1).sf(1.96)"
   ]
  },
  {
   "cell_type": "code",
   "execution_count": 8,
   "id": "57206c64",
   "metadata": {},
   "outputs": [
    {
     "data": {
      "text/plain": [
       "1.0"
      ]
     },
     "execution_count": 8,
     "metadata": {},
     "output_type": "execute_result"
    }
   ],
   "source": [
    "stats.norm(0, 1).cdf(1.96) + stats.norm(0, 1).sf(1.96)"
   ]
  },
  {
   "cell_type": "code",
   "execution_count": 9,
   "id": "2b866da0",
   "metadata": {},
   "outputs": [
    {
     "data": {
      "text/plain": [
       "[<matplotlib.lines.Line2D at 0x27b413eee60>]"
      ]
     },
     "execution_count": 9,
     "metadata": {},
     "output_type": "execute_result"
    },
    {
     "data": {
      "image/png": "[encoded data removed]",
      "text/plain": [
       "<Figure size 640x480 with 1 Axes>"
      ]
     },
     "metadata": {},
     "output_type": "display_data"
    }
   ],
   "source": [
    "import numpy as np\n",
    "import matplotlib.pyplot as plt\n",
    "mu, sigma = 0, 1\n",
    "\n",
    "normal = stats.norm(mu, sigma)\n",
    "\n",
    "x = np.linspace(normal.ppf(0.01), normal.ppf(0.99), 100)\n",
    "\n",
    "fp = normal.pdf(x)\n",
    "\n",
    "plt.plot(x, fp)\n",
    "\n"
   ]
  },
  {
   "cell_type": "code",
   "execution_count": null,
   "id": "3e9620bd",
   "metadata": {},
   "outputs": [],
   "source": []
  }
 ],
 "metadata": {
  "kernelspec": {
   "display_name": "Python 3 (ipykernel)",
   "language": "python",
   "name": "python3"
  },
  "language_info": {
   "codemirror_mode": {
    "name": "ipython",
    "version": 3
   },
   "file_extension": ".py",
   "mimetype": "text/x-python",
   "name": "python",
   "nbconvert_exporter": "python",
   "pygments_lexer": "ipython3",
   "version": "3.10.1"
  }
 },
 "nbformat": 4,
 "nbformat_minor": 5
}
