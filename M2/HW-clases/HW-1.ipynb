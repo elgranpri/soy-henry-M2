{
 "cells": [
  {
   "cell_type": "markdown",
   "id": "de119747",
   "metadata": {},
   "source": [
    "# Homework\n",
    "\n",
    "Considere el siguiente areglo que contiene la altura de un grupo de estudiantes de Henry:\n",
    "\n",
    "```python\n",
    "muestra = np.array( [[1.85, 1.8, 1.8 , 1.8],\n",
    "                    [1.73,  1.7, 1.75, 1.76],\n",
    "                    [ 1.65, 1.69,  1.67 ,  1.6],\n",
    "                    [1.54,  1.57, 1.58, 1.59],\n",
    "                    [ 1.4 , 1.42,  1.45, 1.48]]) \n",
    "```\n",
    "\n",
    "1) Calcule\n",
    "\n",
    "- Media.\n",
    "- Mediana.\n",
    "- Moda\n",
    "- Varianza\n",
    "- Desvío estándar.\n",
    "\n",
    "2) Convierta el arreglo en una lista y realice un Histograma de 5 intervalos. ¿Tiene distribución normal?.\n",
    "\n",
    "3) Con los siguientes datos construye un df y un array que permitan describir adecuadamente la muestra.\n",
    "    'Ingreso en miles' : 10.5 6.8 20.7 18.2 8.6 25.8 22.2 5.9 7.6 11.8\n",
    "    'Años de estudio': 17 18 21 16 16 21 16 14 18 18\n",
    "\n",
    "4) Utilizando pandas describa el dataframe.\n",
    "\n",
    "5) Realice un histograma para de 6 secciones para 'Ingreso en miles' y 'Años de estudio'.\n",
    "\n",
    "6) Calcula la media de 'Ingreso en miles' (df) utilizando pandas.\n",
    "\n",
    "7) Calcula la media de 'Ingreso en miles' (array) utilizando numpy.\n",
    "\n",
    "8) Agregue los siguientes valores extremos al df \\[ 50, 35 \\], \\[ 120, 30 \\]. ¿En cuanto vario la media?, ¿Qué conclusiones obtiene de este resultado sobre la media?."
   ]
  },
  {
   "cell_type": "code",
   "execution_count": null,
   "id": "7368892d",
   "metadata": {},
   "outputs": [],
   "source": []
  }
 ],
 "metadata": {
  "kernelspec": {
   "display_name": "Python 3",
   "language": "python",
   "name": "python3"
  },
  "language_info": {
   "codemirror_mode": {
    "name": "ipython",
    "version": 3
   },
   "file_extension": ".py",
   "mimetype": "text/x-python",
   "name": "python",
   "nbconvert_exporter": "python",
   "pygments_lexer": "ipython3",
   "version": "3.11.2"
  },
  "vscode": {
   "interpreter": {
    "hash": "039635f34f905d6bfc1eda074df2401bb4c490b3cd41726794e4f6d9fecc4b8a"
   }
  }
 },
 "nbformat": 4,
 "nbformat_minor": 5
}
