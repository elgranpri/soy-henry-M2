{
 "cells": [
  {
   "cell_type": "code",
   "execution_count": 250,
   "metadata": {},
   "outputs": [],
   "source": [
    "import pymysql\n",
    "from datetime import datetime\n",
    "import pandas as pd"
   ]
  },
  {
   "cell_type": "code",
   "execution_count": 251,
   "metadata": {},
   "outputs": [],
   "source": [
    "clave = \"root\""
   ]
  },
  {
   "cell_type": "code",
   "execution_count": 252,
   "metadata": {},
   "outputs": [],
   "source": [
    "conexion = pymysql.connect(\n",
    "    host = \"localhost\",\n",
    "    database = \"henry\",\n",
    "    user = \"root\",\n",
    "    password = clave\n",
    ")"
   ]
  },
  {
   "cell_type": "code",
   "execution_count": 253,
   "metadata": {},
   "outputs": [],
   "source": [
    "cursor = conexion.cursor()"
   ]
  },
  {
   "attachments": {},
   "cell_type": "markdown",
   "metadata": {},
   "source": [
    "Armar un dataframe. Primero traigo las columnas y despues las filas."
   ]
  },
  {
   "cell_type": "code",
   "execution_count": 254,
   "metadata": {},
   "outputs": [
    {
     "data": {
      "text/plain": [
       "['idCarrera', 'nombre']"
      ]
     },
     "execution_count": 254,
     "metadata": {},
     "output_type": "execute_result"
    }
   ],
   "source": [
    "cursor.execute(\"show columns from carrera\")\n",
    "columnas = cursor.fetchall()\n",
    "nombre_col = [columna[0] for columna in columnas]\n",
    "nombre_col"
   ]
  },
  {
   "cell_type": "code",
   "execution_count": 255,
   "metadata": {},
   "outputs": [
    {
     "data": {
      "text/html": [
       "<div>\n",
       "<style scoped>\n",
       "    .dataframe tbody tr th:only-of-type {\n",
       "        vertical-align: middle;\n",
       "    }\n",
       "\n",
       "    .dataframe tbody tr th {\n",
       "        vertical-align: top;\n",
       "    }\n",
       "\n",
       "    .dataframe thead th {\n",
       "        text-align: right;\n",
       "    }\n",
       "</style>\n",
       "<table border=\"1\" class=\"dataframe\">\n",
       "  <thead>\n",
       "    <tr style=\"text-align: right;\">\n",
       "      <th></th>\n",
       "      <th>idCarrera</th>\n",
       "      <th>nombre</th>\n",
       "    </tr>\n",
       "  </thead>\n",
       "  <tbody>\n",
       "    <tr>\n",
       "      <th>0</th>\n",
       "      <td>1</td>\n",
       "      <td>Full Stack Developer</td>\n",
       "    </tr>\n",
       "    <tr>\n",
       "      <th>1</th>\n",
       "      <td>2</td>\n",
       "      <td>Data Science</td>\n",
       "    </tr>\n",
       "  </tbody>\n",
       "</table>\n",
       "</div>"
      ],
      "text/plain": [
       "   idCarrera                nombre\n",
       "0          1  Full Stack Developer\n",
       "1          2          Data Science"
      ]
     },
     "execution_count": 255,
     "metadata": {},
     "output_type": "execute_result"
    }
   ],
   "source": [
    "cursor.execute(\"select * from carrera\")\n",
    "alumnos = cursor.fetchall()\n",
    "df = pd.DataFrame(alumnos, columns = nombre_col)\n",
    "df"
   ]
  },
  {
   "cell_type": "code",
   "execution_count": 256,
   "metadata": {},
   "outputs": [
    {
     "data": {
      "text/plain": [
       "3"
      ]
     },
     "execution_count": 256,
     "metadata": {},
     "output_type": "execute_result"
    }
   ],
   "source": [
    "df[\"idCarrera\"].sum() #Utilizo pandas con el df recientemente creado"
   ]
  },
  {
   "attachments": {},
   "cell_type": "markdown",
   "metadata": {},
   "source": [
    "Probando con pandas y PyMySQL."
   ]
  },
  {
   "cell_type": "code",
   "execution_count": 257,
   "metadata": {},
   "outputs": [
    {
     "name": "stdout",
     "output_type": "stream",
     "text": [
      "   idAlumno cedulaIdentidad   nombre    apellido fechaNacimiento fechaIngreso  \\\n",
      "0         1       274352477  Candice       Rojas      2000-12-10   2020-01-21   \n",
      "1         2       313262855  Beverly     Gardner      2006-10-03   2019-12-04   \n",
      "2         3       335199030   Carlos       Frank      2006-07-11   2019-12-13   \n",
      "3         4       171722128   Callum   Velazquez      2005-11-18   2019-12-17   \n",
      "4         5       14374907K    Kelly  Strickland      2005-11-26   2019-12-07   \n",
      "\n",
      "   idCohorte  edad  \n",
      "0       1235    22  \n",
      "1       1235    16  \n",
      "2       1235    17  \n",
      "3       1235    17  \n",
      "4       1235    17  \n"
     ]
    },
    {
     "name": "stderr",
     "output_type": "stream",
     "text": [
      "C:\\Users\\Tamara Campos\\AppData\\Local\\Temp\\ipykernel_3680\\3164974825.py:2: UserWarning: pandas only supports SQLAlchemy connectable (engine/connection) or database string URI or sqlite3 DBAPI2 connection. Other DBAPI2 objects are not tested. Please consider using SQLAlchemy.\n",
      "  df = pd.read_sql(sql, conexion)\n"
     ]
    }
   ],
   "source": [
    "sql = \"SELECT * FROM alumno\"\n",
    "df = pd.read_sql(sql, conexion)\n",
    "conexion.close()\n",
    "print(df.head())"
   ]
  },
  {
   "attachments": {},
   "cell_type": "markdown",
   "metadata": {},
   "source": [
    "Seleccionar sólo los alumnos que se ingresaron después de cierta fecha."
   ]
  },
  {
   "cell_type": "code",
   "execution_count": 258,
   "metadata": {},
   "outputs": [
    {
     "name": "stderr",
     "output_type": "stream",
     "text": [
      "C:\\Users\\Tamara Campos\\AppData\\Local\\Temp\\ipykernel_3680\\1199404528.py:8: FutureWarning: Comparison of Timestamp with datetime.date is deprecated in order to match the standard library behavior. In a future version these will be considered non-comparable. Use 'ts == pd.Timestamp(date)' or 'ts.date() == date' instead.\n",
      "  alumnos_postfecha = df[df[\"fechaIngreso\"] > fecha_limite]\n"
     ]
    },
    {
     "data": {
      "text/html": [
       "<div>\n",
       "<style scoped>\n",
       "    .dataframe tbody tr th:only-of-type {\n",
       "        vertical-align: middle;\n",
       "    }\n",
       "\n",
       "    .dataframe tbody tr th {\n",
       "        vertical-align: top;\n",
       "    }\n",
       "\n",
       "    .dataframe thead th {\n",
       "        text-align: right;\n",
       "    }\n",
       "</style>\n",
       "<table border=\"1\" class=\"dataframe\">\n",
       "  <thead>\n",
       "    <tr style=\"text-align: right;\">\n",
       "      <th></th>\n",
       "      <th>idAlumno</th>\n",
       "      <th>cedulaIdentidad</th>\n",
       "      <th>nombre</th>\n",
       "      <th>apellido</th>\n",
       "      <th>fechaNacimiento</th>\n",
       "      <th>fechaIngreso</th>\n",
       "      <th>idCohorte</th>\n",
       "      <th>edad</th>\n",
       "    </tr>\n",
       "  </thead>\n",
       "  <tbody>\n",
       "    <tr>\n",
       "      <th>121</th>\n",
       "      <td>122</td>\n",
       "      <td>57652322</td>\n",
       "      <td>Edan</td>\n",
       "      <td>Ferguson</td>\n",
       "      <td>2002-05-29</td>\n",
       "      <td>2022-02-19</td>\n",
       "      <td>1241</td>\n",
       "      <td>21</td>\n",
       "    </tr>\n",
       "    <tr>\n",
       "      <th>123</th>\n",
       "      <td>124</td>\n",
       "      <td>383749255</td>\n",
       "      <td>Jason</td>\n",
       "      <td>Harmon</td>\n",
       "      <td>1990-08-17</td>\n",
       "      <td>2022-02-27</td>\n",
       "      <td>1241</td>\n",
       "      <td>33</td>\n",
       "    </tr>\n",
       "    <tr>\n",
       "      <th>145</th>\n",
       "      <td>146</td>\n",
       "      <td>10235723</td>\n",
       "      <td>Grace</td>\n",
       "      <td>Crane</td>\n",
       "      <td>2007-11-27</td>\n",
       "      <td>2022-02-22</td>\n",
       "      <td>1242</td>\n",
       "      <td>15</td>\n",
       "    </tr>\n",
       "    <tr>\n",
       "      <th>146</th>\n",
       "      <td>147</td>\n",
       "      <td>112593543</td>\n",
       "      <td>Rhoda</td>\n",
       "      <td>Golden</td>\n",
       "      <td>2001-04-27</td>\n",
       "      <td>2022-02-23</td>\n",
       "      <td>1242</td>\n",
       "      <td>22</td>\n",
       "    </tr>\n",
       "    <tr>\n",
       "      <th>147</th>\n",
       "      <td>148</td>\n",
       "      <td>369224867</td>\n",
       "      <td>McKenzie</td>\n",
       "      <td>Silva</td>\n",
       "      <td>2008-12-28</td>\n",
       "      <td>2022-02-24</td>\n",
       "      <td>1242</td>\n",
       "      <td>14</td>\n",
       "    </tr>\n",
       "    <tr>\n",
       "      <th>152</th>\n",
       "      <td>153</td>\n",
       "      <td>247172483</td>\n",
       "      <td>Zelda</td>\n",
       "      <td>Curtis</td>\n",
       "      <td>2009-10-10</td>\n",
       "      <td>2022-02-21</td>\n",
       "      <td>1242</td>\n",
       "      <td>13</td>\n",
       "    </tr>\n",
       "    <tr>\n",
       "      <th>154</th>\n",
       "      <td>155</td>\n",
       "      <td>368514128</td>\n",
       "      <td>Duncan</td>\n",
       "      <td>Vasquez</td>\n",
       "      <td>1992-09-18</td>\n",
       "      <td>2022-02-25</td>\n",
       "      <td>1242</td>\n",
       "      <td>31</td>\n",
       "    </tr>\n",
       "    <tr>\n",
       "      <th>157</th>\n",
       "      <td>158</td>\n",
       "      <td>319157859</td>\n",
       "      <td>Azalia</td>\n",
       "      <td>Weiss</td>\n",
       "      <td>2000-09-20</td>\n",
       "      <td>2022-02-25</td>\n",
       "      <td>1242</td>\n",
       "      <td>22</td>\n",
       "    </tr>\n",
       "    <tr>\n",
       "      <th>160</th>\n",
       "      <td>161</td>\n",
       "      <td>41944781</td>\n",
       "      <td>Stephanie</td>\n",
       "      <td>Hurst</td>\n",
       "      <td>1986-11-23</td>\n",
       "      <td>2022-02-14</td>\n",
       "      <td>1243</td>\n",
       "      <td>36</td>\n",
       "    </tr>\n",
       "    <tr>\n",
       "      <th>166</th>\n",
       "      <td>167</td>\n",
       "      <td>448157210</td>\n",
       "      <td>Kiayada</td>\n",
       "      <td>Oneil</td>\n",
       "      <td>2009-03-26</td>\n",
       "      <td>2022-02-25</td>\n",
       "      <td>1243</td>\n",
       "      <td>14</td>\n",
       "    </tr>\n",
       "    <tr>\n",
       "      <th>170</th>\n",
       "      <td>171</td>\n",
       "      <td>152989121</td>\n",
       "      <td>Sean</td>\n",
       "      <td>Hancock</td>\n",
       "      <td>1997-09-21</td>\n",
       "      <td>2022-02-22</td>\n",
       "      <td>1243</td>\n",
       "      <td>25</td>\n",
       "    </tr>\n",
       "    <tr>\n",
       "      <th>171</th>\n",
       "      <td>172</td>\n",
       "      <td>507078060</td>\n",
       "      <td>Arthur</td>\n",
       "      <td>Leon</td>\n",
       "      <td>2006-12-01</td>\n",
       "      <td>2022-02-15</td>\n",
       "      <td>1243</td>\n",
       "      <td>16</td>\n",
       "    </tr>\n",
       "  </tbody>\n",
       "</table>\n",
       "</div>"
      ],
      "text/plain": [
       "     idAlumno cedulaIdentidad     nombre  apellido fechaNacimiento  \\\n",
       "121       122        57652322       Edan  Ferguson      2002-05-29   \n",
       "123       124       383749255      Jason    Harmon      1990-08-17   \n",
       "145       146        10235723      Grace     Crane      2007-11-27   \n",
       "146       147       112593543      Rhoda    Golden      2001-04-27   \n",
       "147       148       369224867   McKenzie     Silva      2008-12-28   \n",
       "152       153       247172483      Zelda    Curtis      2009-10-10   \n",
       "154       155       368514128     Duncan   Vasquez      1992-09-18   \n",
       "157       158       319157859     Azalia     Weiss      2000-09-20   \n",
       "160       161        41944781  Stephanie     Hurst      1986-11-23   \n",
       "166       167       448157210    Kiayada     Oneil      2009-03-26   \n",
       "170       171       152989121       Sean   Hancock      1997-09-21   \n",
       "171       172       507078060     Arthur      Leon      2006-12-01   \n",
       "\n",
       "    fechaIngreso  idCohorte  edad  \n",
       "121   2022-02-19       1241    21  \n",
       "123   2022-02-27       1241    33  \n",
       "145   2022-02-22       1242    15  \n",
       "146   2022-02-23       1242    22  \n",
       "147   2022-02-24       1242    14  \n",
       "152   2022-02-21       1242    13  \n",
       "154   2022-02-25       1242    31  \n",
       "157   2022-02-25       1242    22  \n",
       "160   2022-02-14       1243    36  \n",
       "166   2022-02-25       1243    14  \n",
       "170   2022-02-22       1243    25  \n",
       "171   2022-02-15       1243    16  "
      ]
     },
     "execution_count": 258,
     "metadata": {},
     "output_type": "execute_result"
    }
   ],
   "source": [
    "\"\"\"\n",
    "#select * \n",
    "from alumno\n",
    "where fechaIngreso > '2022-02-01';\n",
    "\"\"\"\n",
    "\n",
    "fecha_limite = pd.to_datetime(\"2022-02-13\")\n",
    "alumnos_postfecha = df[df[\"fechaIngreso\"] > fecha_limite]\n",
    "alumnos_postfecha"
   ]
  },
  {
   "attachments": {},
   "cell_type": "markdown",
   "metadata": {},
   "source": [
    "Ordenar los alumnos por fecha de nacimiento de forma descendente."
   ]
  },
  {
   "cell_type": "code",
   "execution_count": 259,
   "metadata": {},
   "outputs": [
    {
     "data": {
      "text/html": [
       "<div>\n",
       "<style scoped>\n",
       "    .dataframe tbody tr th:only-of-type {\n",
       "        vertical-align: middle;\n",
       "    }\n",
       "\n",
       "    .dataframe tbody tr th {\n",
       "        vertical-align: top;\n",
       "    }\n",
       "\n",
       "    .dataframe thead th {\n",
       "        text-align: right;\n",
       "    }\n",
       "</style>\n",
       "<table border=\"1\" class=\"dataframe\">\n",
       "  <thead>\n",
       "    <tr style=\"text-align: right;\">\n",
       "      <th></th>\n",
       "      <th>idAlumno</th>\n",
       "      <th>cedulaIdentidad</th>\n",
       "      <th>nombre</th>\n",
       "      <th>apellido</th>\n",
       "      <th>fechaNacimiento</th>\n",
       "      <th>fechaIngreso</th>\n",
       "      <th>idCohorte</th>\n",
       "      <th>edad</th>\n",
       "    </tr>\n",
       "  </thead>\n",
       "  <tbody>\n",
       "    <tr>\n",
       "      <th>70</th>\n",
       "      <td>71</td>\n",
       "      <td>388551046</td>\n",
       "      <td>Fitzgerald</td>\n",
       "      <td>Frederick</td>\n",
       "      <td>2009-12-29</td>\n",
       "      <td>2021-08-02</td>\n",
       "      <td>1238</td>\n",
       "      <td>13</td>\n",
       "    </tr>\n",
       "    <tr>\n",
       "      <th>138</th>\n",
       "      <td>139</td>\n",
       "      <td>46150244</td>\n",
       "      <td>Darius</td>\n",
       "      <td>Schmidt</td>\n",
       "      <td>2009-12-19</td>\n",
       "      <td>2022-01-16</td>\n",
       "      <td>1241</td>\n",
       "      <td>13</td>\n",
       "    </tr>\n",
       "    <tr>\n",
       "      <th>83</th>\n",
       "      <td>84</td>\n",
       "      <td>408178630</td>\n",
       "      <td>Abbot</td>\n",
       "      <td>Moss</td>\n",
       "      <td>2009-12-15</td>\n",
       "      <td>2021-10-24</td>\n",
       "      <td>1239</td>\n",
       "      <td>13</td>\n",
       "    </tr>\n",
       "    <tr>\n",
       "      <th>179</th>\n",
       "      <td>180</td>\n",
       "      <td>277347865</td>\n",
       "      <td>William</td>\n",
       "      <td>Long</td>\n",
       "      <td>2009-12-06</td>\n",
       "      <td>2022-02-09</td>\n",
       "      <td>1243</td>\n",
       "      <td>13</td>\n",
       "    </tr>\n",
       "    <tr>\n",
       "      <th>6</th>\n",
       "      <td>7</td>\n",
       "      <td>398182472</td>\n",
       "      <td>Aimee</td>\n",
       "      <td>Cline</td>\n",
       "      <td>2009-11-19</td>\n",
       "      <td>2020-01-26</td>\n",
       "      <td>1235</td>\n",
       "      <td>13</td>\n",
       "    </tr>\n",
       "    <tr>\n",
       "      <th>...</th>\n",
       "      <td>...</td>\n",
       "      <td>...</td>\n",
       "      <td>...</td>\n",
       "      <td>...</td>\n",
       "      <td>...</td>\n",
       "      <td>...</td>\n",
       "      <td>...</td>\n",
       "      <td>...</td>\n",
       "    </tr>\n",
       "    <tr>\n",
       "      <th>34</th>\n",
       "      <td>35</td>\n",
       "      <td>381918319</td>\n",
       "      <td>Margaret</td>\n",
       "      <td>Bentley</td>\n",
       "      <td>1981-07-25</td>\n",
       "      <td>2020-02-17</td>\n",
       "      <td>1236</td>\n",
       "      <td>42</td>\n",
       "    </tr>\n",
       "    <tr>\n",
       "      <th>56</th>\n",
       "      <td>57</td>\n",
       "      <td>402475935</td>\n",
       "      <td>Ian</td>\n",
       "      <td>Stephenson</td>\n",
       "      <td>1981-06-19</td>\n",
       "      <td>2021-03-30</td>\n",
       "      <td>1237</td>\n",
       "      <td>42</td>\n",
       "    </tr>\n",
       "    <tr>\n",
       "      <th>140</th>\n",
       "      <td>141</td>\n",
       "      <td>468707764</td>\n",
       "      <td>Hedda</td>\n",
       "      <td>Wells</td>\n",
       "      <td>1980-11-30</td>\n",
       "      <td>2022-01-18</td>\n",
       "      <td>1242</td>\n",
       "      <td>42</td>\n",
       "    </tr>\n",
       "    <tr>\n",
       "      <th>57</th>\n",
       "      <td>58</td>\n",
       "      <td>474328023</td>\n",
       "      <td>Cooper</td>\n",
       "      <td>Duncan</td>\n",
       "      <td>1980-09-18</td>\n",
       "      <td>2021-01-07</td>\n",
       "      <td>1237</td>\n",
       "      <td>43</td>\n",
       "    </tr>\n",
       "    <tr>\n",
       "      <th>126</th>\n",
       "      <td>127</td>\n",
       "      <td>152234708</td>\n",
       "      <td>Quinlan</td>\n",
       "      <td>Gordon</td>\n",
       "      <td>0202-01-02</td>\n",
       "      <td>2022-01-19</td>\n",
       "      <td>1241</td>\n",
       "      <td>1822</td>\n",
       "    </tr>\n",
       "  </tbody>\n",
       "</table>\n",
       "<p>180 rows × 8 columns</p>\n",
       "</div>"
      ],
      "text/plain": [
       "     idAlumno cedulaIdentidad      nombre    apellido fechaNacimiento  \\\n",
       "70         71       388551046  Fitzgerald   Frederick      2009-12-29   \n",
       "138       139        46150244      Darius     Schmidt      2009-12-19   \n",
       "83         84       408178630       Abbot        Moss      2009-12-15   \n",
       "179       180       277347865     William        Long      2009-12-06   \n",
       "6           7       398182472       Aimee       Cline      2009-11-19   \n",
       "..        ...             ...         ...         ...             ...   \n",
       "34         35       381918319    Margaret     Bentley      1981-07-25   \n",
       "56         57       402475935         Ian  Stephenson      1981-06-19   \n",
       "140       141       468707764       Hedda       Wells      1980-11-30   \n",
       "57         58       474328023      Cooper      Duncan      1980-09-18   \n",
       "126       127       152234708     Quinlan      Gordon      0202-01-02   \n",
       "\n",
       "    fechaIngreso  idCohorte  edad  \n",
       "70    2021-08-02       1238    13  \n",
       "138   2022-01-16       1241    13  \n",
       "83    2021-10-24       1239    13  \n",
       "179   2022-02-09       1243    13  \n",
       "6     2020-01-26       1235    13  \n",
       "..           ...        ...   ...  \n",
       "34    2020-02-17       1236    42  \n",
       "56    2021-03-30       1237    42  \n",
       "140   2022-01-18       1242    42  \n",
       "57    2021-01-07       1237    43  \n",
       "126   2022-01-19       1241  1822  \n",
       "\n",
       "[180 rows x 8 columns]"
      ]
     },
     "execution_count": 259,
     "metadata": {},
     "output_type": "execute_result"
    }
   ],
   "source": [
    "\"\"\"\n",
    "select * \n",
    "from alumno\n",
    "order by fechaNacimiento desc;\n",
    "\"\"\"\n",
    "\n",
    "alumnos_ordenados = df.sort_values(by = \"fechaNacimiento\", ascending = False)\n",
    "alumnos_ordenados"
   ]
  },
  {
   "attachments": {},
   "cell_type": "markdown",
   "metadata": {},
   "source": [
    "Agregar una columna al DataFrame que contenga la edad de cada alumno en años. Encontrar el promedio de edad de los alumnos."
   ]
  },
  {
   "cell_type": "code",
   "execution_count": 260,
   "metadata": {},
   "outputs": [
    {
     "data": {
      "text/plain": [
       "22.14"
      ]
     },
     "execution_count": 260,
     "metadata": {},
     "output_type": "execute_result"
    }
   ],
   "source": [
    "\"\"\"\n",
    "alter table alumno add column edad int;\n",
    "/*Con esto logro autorizar la actualización de la tabla*/\n",
    "SET SQL_SAFE_UPDATES = 0;\n",
    "update alumno set edad = datediff(curdate(), fechaNacimiento) / 365;\n",
    "/*Luego de realizar el cambio vuelva a colocar 1 ya que puede generar grandes perdidas*/\n",
    "SET SQL_SAFE_UPDATES = 1;\n",
    "select * from alumno;\n",
    "\n",
    "select avg(edad) as promedio\n",
    "from alumno;\n",
    "\"\"\"\n",
    "\n",
    "hoy = datetime.today()\n",
    "df = df.drop(126)\n",
    "df[\"edad\"] = (hoy - pd.to_datetime(df[\"fechaNacimiento\"])).astype('<m8[Y]')\n",
    "promedio_edad = df[\"edad\"].mean()\n",
    "round(promedio_edad, 2)"
   ]
  },
  {
   "attachments": {},
   "cell_type": "markdown",
   "metadata": {},
   "source": [
    "Encontrar la cantidad de alumnos por cohorte."
   ]
  },
  {
   "cell_type": "code",
   "execution_count": 261,
   "metadata": {},
   "outputs": [
    {
     "data": {
      "text/plain": [
       "1235    20\n",
       "1236    20\n",
       "1237    20\n",
       "1238    20\n",
       "1239    20\n",
       "1240    20\n",
       "1242    20\n",
       "1243    20\n",
       "1241    19\n",
       "Name: idCohorte, dtype: int64"
      ]
     },
     "execution_count": 261,
     "metadata": {},
     "output_type": "execute_result"
    }
   ],
   "source": [
    "\"\"\"\n",
    "select count(*) as cantidad, IdCohorte\n",
    "from alumno\n",
    "group by IdCohorte;\n",
    "\"\"\"\n",
    "\n",
    "alumnos_cohorte = df[\"idCohorte\"].value_counts()\n",
    "alumnos_cohorte"
   ]
  },
  {
   "attachments": {},
   "cell_type": "markdown",
   "metadata": {},
   "source": [
    "Seleccionar sólo los alumnos cuya cédula de identidad comienza con un cierto prefijo."
   ]
  },
  {
   "cell_type": "code",
   "execution_count": 262,
   "metadata": {},
   "outputs": [
    {
     "data": {
      "text/html": [
       "<div>\n",
       "<style scoped>\n",
       "    .dataframe tbody tr th:only-of-type {\n",
       "        vertical-align: middle;\n",
       "    }\n",
       "\n",
       "    .dataframe tbody tr th {\n",
       "        vertical-align: top;\n",
       "    }\n",
       "\n",
       "    .dataframe thead th {\n",
       "        text-align: right;\n",
       "    }\n",
       "</style>\n",
       "<table border=\"1\" class=\"dataframe\">\n",
       "  <thead>\n",
       "    <tr style=\"text-align: right;\">\n",
       "      <th></th>\n",
       "      <th>idAlumno</th>\n",
       "      <th>cedulaIdentidad</th>\n",
       "      <th>nombre</th>\n",
       "      <th>apellido</th>\n",
       "      <th>fechaNacimiento</th>\n",
       "      <th>fechaIngreso</th>\n",
       "      <th>idCohorte</th>\n",
       "      <th>edad</th>\n",
       "    </tr>\n",
       "  </thead>\n",
       "  <tbody>\n",
       "    <tr>\n",
       "      <th>44</th>\n",
       "      <td>45</td>\n",
       "      <td>277992078</td>\n",
       "      <td>Gray</td>\n",
       "      <td>Willis</td>\n",
       "      <td>1993-02-08</td>\n",
       "      <td>2021-03-26</td>\n",
       "      <td>1237</td>\n",
       "      <td>30.0</td>\n",
       "    </tr>\n",
       "    <tr>\n",
       "      <th>179</th>\n",
       "      <td>180</td>\n",
       "      <td>277347865</td>\n",
       "      <td>William</td>\n",
       "      <td>Long</td>\n",
       "      <td>2009-12-06</td>\n",
       "      <td>2022-02-09</td>\n",
       "      <td>1243</td>\n",
       "      <td>13.0</td>\n",
       "    </tr>\n",
       "  </tbody>\n",
       "</table>\n",
       "</div>"
      ],
      "text/plain": [
       "     idAlumno cedulaIdentidad   nombre apellido fechaNacimiento fechaIngreso  \\\n",
       "44         45       277992078     Gray   Willis      1993-02-08   2021-03-26   \n",
       "179       180       277347865  William     Long      2009-12-06   2022-02-09   \n",
       "\n",
       "     idCohorte  edad  \n",
       "44        1237  30.0  \n",
       "179       1243  13.0  "
      ]
     },
     "execution_count": 262,
     "metadata": {},
     "output_type": "execute_result"
    }
   ],
   "source": [
    "\"\"\"\n",
    "select *\n",
    "from alumno\n",
    "where cedulaIdentidad like \"20%\";\n",
    "\"\"\"\n",
    "\n",
    "cedula_pre = df[\"cedulaIdentidad\"].str.startswith(\"277\")\n",
    "alumnos_pre = df[cedula_pre]\n",
    "alumnos_pre"
   ]
  },
  {
   "attachments": {},
   "cell_type": "markdown",
   "metadata": {},
   "source": [
    "Encontrar la fecha de ingreso más temprana y más tardía de los alumnos."
   ]
  },
  {
   "cell_type": "code",
   "execution_count": 263,
   "metadata": {},
   "outputs": [
    {
     "name": "stdout",
     "output_type": "stream",
     "text": [
      "2019-12-04 2022-02-27\n"
     ]
    }
   ],
   "source": [
    "\"\"\" \n",
    "select min(FechaIngreso) as fecha_minima, max(FechaIngreso) as fecha_maxima\n",
    "from alumno;\n",
    "\"\"\"\n",
    "\n",
    "fecha_min_ing = df[\"fechaIngreso\"].min()\n",
    "fecha_max_ing = df[\"fechaIngreso\"].max()\n",
    "print(fecha_min_ing, fecha_max_ing)"
   ]
  },
  {
   "attachments": {},
   "cell_type": "markdown",
   "metadata": {},
   "source": [
    "Seleccionar sólo los alumnos que tengan una edad entre dos valores dados."
   ]
  },
  {
   "cell_type": "code",
   "execution_count": 264,
   "metadata": {},
   "outputs": [
    {
     "data": {
      "text/html": [
       "<div>\n",
       "<style scoped>\n",
       "    .dataframe tbody tr th:only-of-type {\n",
       "        vertical-align: middle;\n",
       "    }\n",
       "\n",
       "    .dataframe tbody tr th {\n",
       "        vertical-align: top;\n",
       "    }\n",
       "\n",
       "    .dataframe thead th {\n",
       "        text-align: right;\n",
       "    }\n",
       "</style>\n",
       "<table border=\"1\" class=\"dataframe\">\n",
       "  <thead>\n",
       "    <tr style=\"text-align: right;\">\n",
       "      <th></th>\n",
       "      <th>idAlumno</th>\n",
       "      <th>cedulaIdentidad</th>\n",
       "      <th>nombre</th>\n",
       "      <th>apellido</th>\n",
       "      <th>fechaNacimiento</th>\n",
       "      <th>fechaIngreso</th>\n",
       "      <th>idCohorte</th>\n",
       "      <th>edad</th>\n",
       "    </tr>\n",
       "  </thead>\n",
       "  <tbody>\n",
       "    <tr>\n",
       "      <th>135</th>\n",
       "      <td>136</td>\n",
       "      <td>45903699</td>\n",
       "      <td>Shelby</td>\n",
       "      <td>Kinney</td>\n",
       "      <td>1998-04-16</td>\n",
       "      <td>2022-01-04</td>\n",
       "      <td>1241</td>\n",
       "      <td>24.0</td>\n",
       "    </tr>\n",
       "    <tr>\n",
       "      <th>153</th>\n",
       "      <td>154</td>\n",
       "      <td>213189034</td>\n",
       "      <td>Bethany</td>\n",
       "      <td>Hoover</td>\n",
       "      <td>1998-12-24</td>\n",
       "      <td>2022-01-02</td>\n",
       "      <td>1242</td>\n",
       "      <td>24.0</td>\n",
       "    </tr>\n",
       "  </tbody>\n",
       "</table>\n",
       "</div>"
      ],
      "text/plain": [
       "     idAlumno cedulaIdentidad   nombre apellido fechaNacimiento fechaIngreso  \\\n",
       "135       136        45903699   Shelby   Kinney      1998-04-16   2022-01-04   \n",
       "153       154       213189034  Bethany   Hoover      1998-12-24   2022-01-02   \n",
       "\n",
       "     idCohorte  edad  \n",
       "135       1241  24.0  \n",
       "153       1242  24.0  "
      ]
     },
     "execution_count": 264,
     "metadata": {},
     "output_type": "execute_result"
    }
   ],
   "source": [
    "\"\"\"\n",
    "select *\n",
    "from alumno\n",
    "where edad < 20 and edad > 18;\n",
    "\"\"\"\n",
    "\n",
    "edad_entre = df[(df[\"edad\"] > 23) & (df[\"edad\"] < 25)]\n",
    "edad_entre"
   ]
  }
 ],
 "metadata": {
  "kernelspec": {
   "display_name": "Python 3",
   "language": "python",
   "name": "python3"
  },
  "language_info": {
   "codemirror_mode": {
    "name": "ipython",
    "version": 3
   },
   "file_extension": ".py",
   "mimetype": "text/x-python",
   "name": "python",
   "nbconvert_exporter": "python",
   "pygments_lexer": "ipython3",
   "version": "3.10.1"
  },
  "orig_nbformat": 4
 },
 "nbformat": 4,
 "nbformat_minor": 2
}
