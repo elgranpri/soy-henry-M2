{
 "cells": [
  {
   "attachments": {},
   "cell_type": "markdown",
   "metadata": {},
   "source": [
    "Responder Verdadero ó Falso<br>\n",
    "1) Todos las métricas son KPI's<br>\n",
    "2) Un KPI es un indicador clave de rendimiento que ayuda a evaluar el valor actual el grado de cumplimiento de objetivo definido basándose en métricas."
   ]
  },
  {
   "attachments": {},
   "cell_type": "markdown",
   "metadata": {},
   "source": [
    "3) Para el Sector de Instalaciones de una empresa de Televisión por Cable, cual de estos indicadores puede representar un KPI?<br>\n",
    "   1- Gasto de publicidad en internet sobre ganancia adquirida para evaluar la efectividad de las campañas de marketing<br>\n",
    "   2- Cantidad de usuarios por central para evaluar la instalación de nuevas centrales<br>\n",
    "   3- Demora promedio en los tiempos de atención al cliente por el canal telefónico<br>\n",
    "<br>\n",
    "4) El espacio muestral es:\n",
    "   1- El conjunto de todos los resultados posibles de un experimento.<br>\n",
    "   2- Una tabla con las distintas funciones de probabilidad.<br>\n",
    "   3- Un evento que puede describirse con una característica única.<br>\n",
    "<br>\n",
    "5) Dos sucesos son compatibles:\n",
    "   1- Cuando pueden ocurrir al mismo tiempo.<br>\n",
    "   2- Cuando son mutuamente excluyentes.<br>\n",
    "   3- Cuando corresponden a un conjunto de eventos colectivamente exhaustivo.<br>\n",
    "<br>"
   ]
  },
  {
   "attachments": {},
   "cell_type": "markdown",
   "metadata": {},
   "source": [
    "En tu motor de base de datos MySQL, ejecutá las instrucciones del script 'Checkpoint_Create_Insert.sql' (Si no trabajas con MySQL es posible que tengas que realizar algunos ajustes en el script. También están provistas las tablas en formato csv dentro de la carpeta 'tablas_cp').\n",
    "Se crearan 3 tablas:<br>\n",
    "* venta:\n",
    "* canal_venta\n",
    "* producto"
   ]
  },
  {
   "attachments": {},
   "cell_type": "markdown",
   "metadata": {},
   "source": [
    "Una empresa de venta de productos tiene como objetivo hacer crecer su canal de ventas OnLine, por tal motivo la dirección se plantean algunas cuestiones para entender como va evolucionando el negocio\n",
    "\n",
    "Contestar las siguientes preguntas, utilizando el DER y mysql:"
   ]
  },
  {
   "attachments": {},
   "cell_type": "markdown",
   "metadata": {},
   "source": [
    "6) ¿Cuál es el canal id del Producto cuyo nombre es EPSON COPYFAX 2000 ? "
   ]
  },
  {
   "attachments": {},
   "cell_type": "markdown",
   "metadata": {},
   "source": [
    "7) ¿Cuál es el canal de ventas con menor cantidad de ventas registradas?\n",
    "Pista: acordate de las funciones de agregacion AVG/SUM/MIN/MAX/COUNT\n"
   ]
  },
  {
   "attachments": {},
   "cell_type": "markdown",
   "metadata": {},
   "source": [
    "8) Cual fue el mes con mayor venta de la sucursal 13 para el año 2015 ?\n",
    "Pista para agrupar por mes podes usar el   DATE_FORMAT( date,'%Y%m') --> YYYYMM o  DATE_FORMAT( date,'%m') --> MM "
   ]
  },
  {
   "attachments": {},
   "cell_type": "markdown",
   "metadata": {},
   "source": [
    "9) Se define el tiempo de entrega como el tiempo en días transcurrido entre que se realiza la compra y se efectua la entrega. Par analizar mejoras en el servicio, la dirección desea saber: cuál es el año con el promedio más alto de este tiempo de entrega. (Fecha = Fecha de venta; Fecha_Entrega = Fecha de entrega)\n",
    "Pista: acordate de las funciones de agregacion AVG/SUM/MIN/MAX"
   ]
  },
  {
   "attachments": {},
   "cell_type": "markdown",
   "metadata": {},
   "source": [
    "10) La dirección desea saber que tipo de producto tiene la mayor venta en 2020 (Tabla 'producto', campo Tipo = Tipo de producto)\n",
    "Pista: acordate de las funciones de agregacion AVG/SUM/MIN/MAX\n",
    "   1- INFORMATICA<br>\n",
    "   2- ESTUCHERIA<br>\n",
    "   3- AUDIO<br>\n",
    "   4- IMPRESIÓN<br>\n",
    "   5- GABINETES<br>\n",
    "   6- GRABACION<br>\n",
    "   7- BASES<br>\n",
    "   8- GAMING<br>"
   ]
  },
  {
   "attachments": {},
   "cell_type": "markdown",
   "metadata": {},
   "source": [
    "11) ¿Cuál es el año y mes con la mayor cantidad de productos vendidos?\n",
    "Informar la respuesta con 4 digitos para el año y 2 para el mes\n",
    "Por ejemplo 201506 seria Junio 2015\n",
    "Pista para agrupar por mes podes usar el   DATE_FORMAT( date,'%Y%m') --> YYYYMM o  DATE_FORMAT( date,'%m') --> MM "
   ]
  },
  {
   "attachments": {},
   "cell_type": "markdown",
   "metadata": {},
   "source": [
    "12) ¿Cuantos productos tienen la palabra DVD en alguna parte de su nombre/concepto? "
   ]
  },
  {
   "attachments": {},
   "cell_type": "markdown",
   "metadata": {},
   "source": [
    "13) ¿Cual de estos tipos de producto, tiene la menor diferencia de precio entre sus minimos y maximos?\n",
    "   1- GABINETES\t  \n",
    "   2- GAMING\t  \n",
    "   3- IMPRESIÓN\t "
   ]
  },
  {
   "attachments": {},
   "cell_type": "markdown",
   "metadata": {},
   "source": [
    "14) Teniendo en cuenta que Fecha es la fecha real de compra, y Fecha_Entrega es la fecha real que se entrego el producto. ¿Cuantas ventas NO se entregaron el mismo mes en que fueron compradas?\n",
    "Ejemplo\n",
    "Venta |Fecha      | Fecha_Entrega\n",
    " 1    |2018-03-09 | 2018-03-25 --> Se entrego el mismo mes que fue hecha la venta\n",
    " 2    |2020-06-29 | 2020-07-01 --> No se entrego el mismo mes que la venta"
   ]
  },
  {
   "attachments": {},
   "cell_type": "markdown",
   "metadata": {},
   "source": [
    "15) Cual es el Id del empleado que mayor cantidad de productos vendio en toda la historia de las ventas?\n",
    "\n",
    "   1- 3603<br>\n",
    "   2- 3504<br>\n",
    "   3- 1675<br>\n",
    "   4- 3186<br>"
   ]
  },
  {
   "attachments": {},
   "cell_type": "markdown",
   "metadata": {},
   "source": [
    "16) Si se colocan 5 canicas blancas y 5 canicas negras dentro de un frasco y luego, de manera aleatoria se quitan 2 seguidas ¿Cuál es la probabilidad de que ambas sean blancas?"
   ]
  },
  {
   "cell_type": "code",
   "execution_count": 1,
   "metadata": {},
   "outputs": [
    {
     "data": {
      "text/plain": [
       "0.22222222222222227"
      ]
     },
     "execution_count": 1,
     "metadata": {},
     "output_type": "execute_result"
    }
   ],
   "source": [
    "k = 2 #las que tomo\n",
    "N = 10 #total\n",
    "n = 2 #muestreo\n",
    "r = 5 #canidad blancas en el total\n",
    "\n",
    "from scipy.stats import hypergeom\n",
    "hypergeom.pmf(k, N, n, r)"
   ]
  },
  {
   "attachments": {},
   "cell_type": "markdown",
   "metadata": {},
   "source": [
    "17) Si se colocan 5 canicas blancas y 5 canicas negras dentro de un frasco y luego, de manera aleatoria se quitan 2 seguidas ¿Cuál es la probabilidad de que ambas sean de un mismo color?"
   ]
  },
  {
   "cell_type": "code",
   "execution_count": 2,
   "metadata": {},
   "outputs": [
    {
     "data": {
      "text/plain": [
       "0.4444444444444444"
      ]
     },
     "execution_count": 2,
     "metadata": {},
     "output_type": "execute_result"
    }
   ],
   "source": [
    "(5/10 * 4/9) + (5/10 * 4/9)\n",
    "#sacar primera blanca y seg blanca + sacar prim negra y seg negra"
   ]
  },
  {
   "attachments": {},
   "cell_type": "markdown",
   "metadata": {},
   "source": [
    "18) Considerando un juego que consiste en acertar a la suma de la tirada de 2 dados, ¿cuál sería el valor de la suma más probable?"
   ]
  },
  {
   "cell_type": "code",
   "execution_count": 3,
   "metadata": {},
   "outputs": [
    {
     "name": "stdout",
     "output_type": "stream",
     "text": [
      "La suma mas probable es 7.0  con probabilidad de  0.16666666666666666\n"
     ]
    }
   ],
   "source": [
    "import numpy as np\n",
    "\n",
    "d1 = np.arange(1, 7)\n",
    "d2 = np.arange(1, 7)\n",
    "sumas = np.array([])\n",
    "\n",
    "for el1 in d1:\n",
    "    for el2 in d2:\n",
    "        sumas = np.append(sumas, el1 + el2)\n",
    "\n",
    "moda = np.unique(sumas, return_counts = True)\n",
    "prob = moda[1] / moda[1].sum()\n",
    "\n",
    "index_max = prob.argmax()\n",
    "print(\"La suma mas probable es\", moda[0][index_max], \" con probabilidad de \", prob[index_max])"
   ]
  },
  {
   "attachments": {},
   "cell_type": "markdown",
   "metadata": {},
   "source": [
    "19) En una tramo de una autopista, pasan en promedio 2 camiones cada 5 minutos. ¿Cuál es la probabilidad de que en esos 5 minutos pasen más de 2 camiones?"
   ]
  },
  {
   "cell_type": "code",
   "execution_count": 4,
   "metadata": {},
   "outputs": [
    {
     "data": {
      "text/plain": [
       "0.3233235838169366"
      ]
     },
     "execution_count": 4,
     "metadata": {},
     "output_type": "execute_result"
    }
   ],
   "source": [
    "tasa = 2/5\n",
    "l = 2\n",
    "\n",
    "from scipy.stats import poisson\n",
    "\n",
    "1- poisson.cdf(2, l)"
   ]
  },
  {
   "attachments": {},
   "cell_type": "markdown",
   "metadata": {},
   "source": [
    "20) En una ciudad, la probabilidad de lluvia cualquier día, es de 0.2, ¿cuál es la probabilidad de que en esa ciudad, llueva durante 2 días seguidos?"
   ]
  },
  {
   "cell_type": "code",
   "execution_count": 5,
   "metadata": {},
   "outputs": [
    {
     "data": {
      "text/plain": [
       "0.04000000000000001"
      ]
     },
     "execution_count": 5,
     "metadata": {},
     "output_type": "execute_result"
    }
   ],
   "source": [
    "p = 0.2\n",
    "k = 2\n",
    "n = 2\n",
    "\n",
    "from scipy.stats import binom\n",
    "\n",
    "binom.pmf(k, n, p)"
   ]
  }
 ],
 "metadata": {
  "kernelspec": {
   "display_name": "Python 3",
   "language": "python",
   "name": "python3"
  },
  "language_info": {
   "codemirror_mode": {
    "name": "ipython",
    "version": 3
   },
   "file_extension": ".py",
   "mimetype": "text/x-python",
   "name": "python",
   "nbconvert_exporter": "python",
   "pygments_lexer": "ipython3",
   "version": "3.10.1"
  },
  "orig_nbformat": 4
 },
 "nbformat": 4,
 "nbformat_minor": 2
}
